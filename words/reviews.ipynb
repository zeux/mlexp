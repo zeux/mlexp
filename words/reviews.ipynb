{
 "cells": [
  {
   "cell_type": "code",
   "execution_count": 8,
   "metadata": {},
   "outputs": [],
   "source": [
    "import torch\n",
    "import torch.nn as nn\n",
    "import torch.nn.functional as F\n",
    "import torch.utils.data as D"
   ]
  },
  {
   "cell_type": "code",
   "execution_count": 9,
   "metadata": {},
   "outputs": [],
   "source": [
    "import matplotlib.pyplot as plt\n",
    "%matplotlib inline"
   ]
  },
  {
   "cell_type": "code",
   "execution_count": 10,
   "metadata": {},
   "outputs": [],
   "source": [
    "import trainer\n",
    "from trainer import device"
   ]
  },
  {
   "cell_type": "code",
   "execution_count": 11,
   "metadata": {},
   "outputs": [],
   "source": [
    "# load dictionary (100k words) from /usr/share/dict/words\n",
    "with open('/usr/share/dict/words', 'r') as f:\n",
    "    vocab = {}\n",
    "    for line in f:\n",
    "        word = line.strip().replace(\"'\",\"\").lower()\n",
    "        if not word in vocab:\n",
    "            vocab[word] = len(vocab)\n",
    "\n",
    "words = sorted(vocab.keys(), key=lambda w: vocab[w])\n",
    "\n",
    "assert(len(words) == len(vocab))\n",
    "assert(vocab[words[42]] == 42)"
   ]
  },
  {
   "cell_type": "code",
   "execution_count": 12,
   "metadata": {},
   "outputs": [],
   "source": [
    "# given a sentence, parse it into word indices\n",
    "import re\n",
    "phrase_re = re.compile(r'[!.;()\"\\']+')\n",
    "word_re = re.compile(r'[,\\s-]+')\n",
    "\n",
    "def sentences(str):\n",
    "    return [[w.lower() for w in word_re.split(p) if len(w) > 0] for p in phrase_re.split(str.lower())]"
   ]
  },
  {
   "cell_type": "code",
   "execution_count": 27,
   "metadata": {},
   "outputs": [],
   "source": [
    "import json\n",
    "import random\n",
    "import os.path\n",
    "\n",
    "# given a JSON file (with review data), endlessly produce reviews from random offsets\n",
    "# each review is a list of word indices, padded with -1 to a given length to simplify batch collation\n",
    "class ReviewDataset(D.IterableDataset):\n",
    "    def __init__(self, path, limit):\n",
    "        super().__init__()\n",
    "        self.file = open(path, 'r', errors='ignore')\n",
    "        self.size = os.path.getsize(path)\n",
    "        self.limit = limit\n",
    "    def __iter__(self):\n",
    "        while True:\n",
    "            offset = random.randrange(self.size)\n",
    "            self.file.seek(offset, 0)\n",
    "            line = self.file.readline()\n",
    "            line = self.file.readline() # note: we read the line twice, because the first line is probably incomplete\n",
    "            try:\n",
    "                review = json.loads(line)\n",
    "                if not 'overall' in review or not 'reviewText' in review:\n",
    "                    continue\n",
    "                score = float(review[\"overall\"])\n",
    "                text = review[\"reviewText\"]\n",
    "                words = [vocab[w] for s in sentences(text) for w in s if w in vocab]\n",
    "                if len(words) < self.limit:\n",
    "                    words += [-1] * (self.limit - len(words))\n",
    "                else:\n",
    "                    words = words[:self.limit]\n",
    "                yield torch.tensor(words, dtype=torch.long), torch.tensor(score, dtype=torch.float)\n",
    "            except json.JSONDecodeError:\n",
    "                continue"
   ]
  },
  {
   "cell_type": "code",
   "execution_count": 14,
   "metadata": {},
   "outputs": [
    {
     "name": "stderr",
     "output_type": "stream",
     "text": [
      "/home/zeux/.local/lib/python3.10/site-packages/torch/_utils.py:776: UserWarning: TypedStorage is deprecated. It will be removed in the future and UntypedStorage will be the only storage class. This should only matter to you if you are using storages directly.  To access UntypedStorage directly, use tensor.untyped_storage() instead of tensor.storage()\n",
      "  return self.fget.__get__(instance, owner)()\n"
     ]
    }
   ],
   "source": [
    "# load word2vec embeddings that we've trained; note that they must match the word dictionary\n",
    "w2v = torch.load(\"w2v.pt\", weights_only=True)\n",
    "assert(w2v.shape[0] == len(vocab))"
   ]
  },
  {
   "cell_type": "code",
   "execution_count": 59,
   "metadata": {},
   "outputs": [],
   "source": [
    "# define a model that takes a sequence of word indices and outputs a score\n",
    "class Net(nn.Module):\n",
    "    def __init__(self, w2v, hidden_size, num_layers):\n",
    "        super().__init__()\n",
    "        self.w2v = nn.Embedding.from_pretrained(w2v, freeze=True)\n",
    "        self.rnn = nn.LSTM(w2v.shape[1], hidden_size, num_layers=num_layers, batch_first=True)\n",
    "        self.fc = nn.Linear(hidden_size, 1)\n",
    "    def forward(self, x):\n",
    "        # for now, replace -1 (padding) with 0 as embedding doesn't handle it\n",
    "        # this will effectively replace padding with 'a', which is a useless word... maybe it would be better to replace embedding with a zero vector?\n",
    "        x[x == -1] = 0\n",
    "\n",
    "        x = self.w2v(x) # -> BxLxV\n",
    "        x, _ = self.rnn(x) # -> BxLxH\n",
    "        # note: this needs to change for bidirectional RNNs, but for now take last output\n",
    "        x = x[:, -1, :] # -> BxH\n",
    "        # final classifier\n",
    "        x = self.fc(x).flatten() # -> B\n",
    "        x = F.sigmoid(x)\n",
    "        return x\n",
    "    def loss(self, pred, y):\n",
    "        # y is in range 1..5, so we need to convert it to 0..1\n",
    "        return F.binary_cross_entropy(pred, (y - 1) / 4)"
   ]
  },
  {
   "cell_type": "code",
   "execution_count": 63,
   "metadata": {},
   "outputs": [
    {
     "name": "stdout",
     "output_type": "stream",
     "text": [
      "Train [28.399M params]: 400 epochs took 18431.50 sec, train loss 0.252545, val loss 0.000000\n"
     ]
    },
    {
     "data": {
      "image/png": "[encoded data removed]",
      "text/plain": [
       "<Figure size 640x480 with 1 Axes>"
      ]
     },
     "metadata": {},
     "output_type": "display_data"
    }
   ],
   "source": [
    "net = Net(w2v, 512, 3).to(device)\n",
    "data = D.DataLoader(ReviewDataset(\"../movie-ratings.json\", 128), batch_size=256, num_workers=4)\n",
    "trainer.train(net, data, epochs=400, batch_limit=1000, patience=10)"
   ]
  },
  {
   "cell_type": "code",
   "execution_count": 51,
   "metadata": {},
   "outputs": [],
   "source": [
    "def score(net, text, limit=128):\n",
    "    words = [vocab[w] for s in sentences(text) for w in s if w in vocab]\n",
    "    if limit:\n",
    "        if len(words) < limit:\n",
    "            words += [-1] * (limit - len(words))\n",
    "        else:\n",
    "            words = words[:limit]\n",
    "    words = torch.tensor(words, dtype=torch.long).unsqueeze(0).to(device)\n",
    "    return net(words)[0].item() * 4 + 1"
   ]
  },
  {
   "cell_type": "code",
   "execution_count": 68,
   "metadata": {},
   "outputs": [
    {
     "data": {
      "text/plain": [
       "3.9264540672302246"
      ]
     },
     "execution_count": 68,
     "metadata": {},
     "output_type": "execute_result"
    }
   ],
   "source": [
    "score(net, \"\"\"\n",
    "Delivers a best high octane action thriller from the franchise .\n",
    "\n",
    "Pros - There was bit let down in JW3 , but they came back with a banger JW4 and delivered one of the best actions of all time . Stunt choreography , Camera work , editing and heart pumping BGMs were totally bonkers . There were many prolonged action sequences through out the movie , each of them never fails to deliver some thrill and adrenaline rush . Besides from action set pieces , JW4 well contributed in the world building and this whole tetralogy done a good job in World building & character establishments , I hope it will be well used in its upcoming spin off series and movies . Cast did great job , especially Keanu Reeves and Donie Yen were great .\n",
    "\n",
    "Cons - Few silly logical mistakes that you can't ignore .\n",
    "\n",
    "Overall , to the action lovers and John wick fans out there don't miss out to watch it on big screen . Must watch . Highly recommended .\n",
    "\"\"\")"
   ]
  },
  {
   "cell_type": "code",
   "execution_count": 67,
   "metadata": {},
   "outputs": [
    {
     "data": {
      "text/plain": [
       "2.1598013639450073"
      ]
     },
     "execution_count": 67,
     "metadata": {},
     "output_type": "execute_result"
    }
   ],
   "source": [
    "score(net, \"\"\"\n",
    "I am not sure what I have watched. Seriously, I'm in schock lol... I am a big fan of slashers so that's why I've watched almost all the great and the surreal ones too.\n",
    "This movie is on the top list of the worst. But, let me tell you something, if you want to watch a slasher starring Winne the Poh you can't expect an Oscar winning here.\n",
    "But I think it could have been far better with a more serious script and actors.\n",
    "\n",
    "First, the movie is maximum a Z one. It is bad, really bad in all aspects. Even the gore looked pretty cheap.\n",
    "\n",
    "Second, the music is terrible. As bad as you can expect in a Z++++ movie.\n",
    "\n",
    "Last but not least, the best are the girls ready to dissapear. Didn't feel anything for any of them. Good job Winnie and friends.\n",
    "\n",
    "So, overall if you want to waste some time watching a terrible slasher, do it. Even you can find somehow entertaining if you're in the mood.\n",
    "\"\"\")"
   ]
  },
  {
   "cell_type": "code",
   "execution_count": 66,
   "metadata": {},
   "outputs": [
    {
     "data": {
      "text/plain": [
       "3.756014823913574"
      ]
     },
     "execution_count": 66,
     "metadata": {},
     "output_type": "execute_result"
    }
   ],
   "source": [
    "score(net, \"\"\"\n",
    "At this point, \"The Avengers\" has made around 100 trillion dollars (or so)--and so it's obvious that people love the film.\n",
    "My own daughter went to the premier in New York and then went to it on opening night in general release--and was mad I didn't take her with me tonight to see it!\n",
    "Obviously, she loved the film as well. As for me, I liked it but didn't quite share the overall exuberance for the film.\n",
    "Mind you, I liked it--but I think I preferred the earlier films before the Avengers team was formed.\n",
    "There was a certain charm that I didn't quite see recaptured in the film. Now the film is good--it's just that what I like in these other films I would have liked more of in \"The Avengers\".\n",
    "Specifically, the movie could have used a bit more humor and a bit more character development. When I read the IMDb trivia, it seems that originally the film had about 30 more minutes--\n",
    "all showing Steve Rogers (Captain America) trying to adjust to his new life. I would have LOVED seeing all this--and less of the HUGE battle at the end of the film.\n",
    "For me, it just felt numbing after a while and I would have liked more of the characters when they weren't fighting. Again, however, I DID like the film....\n",
    "but the earlier Marvel/Disney films I liked just a bit better. Just my two cents worth...\n",
    "\"\"\")"
   ]
  },
  {
   "cell_type": "code",
   "execution_count": 72,
   "metadata": {},
   "outputs": [
    {
     "data": {
      "text/plain": [
       "4.027890920639038"
      ]
     },
     "execution_count": 72,
     "metadata": {},
     "output_type": "execute_result"
    }
   ],
   "source": [
    "score(net, \"\"\"\n",
    "The 21st century has seen more superhero movies than I can count. This year alone has already seen \"Black Panther\".\n",
    "I won't deny that Stan Lee created a diverse variety of do-gooders in the Marvel Universe.\n",
    "\"The Avengers\" (not to be confused with the 1960s TV series) is entertaining enough.\n",
    "It's nothing special - much of it is sensory overload - but it's nothing that it doesn't pretend to be.\n",
    "Loki is the common suave but malevolent villain. He could trick anyone into thinking that he's a decent person.\n",
    "This movie will definitely please the Leonard Hofstadters, Sheldon Coopers, Howard Wolowitzes and Raj Koothrapalis of the world.\n",
    "\n",
    "It was a pleasant surprise to see that one of the people in the World Security Council got played by Jenny Agutter (the nurse in \"An American Werewolf in London\").\n",
    "I'd like to see a crossover between this movie and John Landis's horror movie.\n",
    "\n",
    "Anyway, it's not the ultimate masterpiece, but undeniably fun.\n",
    "\"\"\")"
   ]
  }
 ],
 "metadata": {
  "kernelspec": {
   "display_name": "Python 3",
   "language": "python",
   "name": "python3"
  },
  "language_info": {
   "codemirror_mode": {
    "name": "ipython",
    "version": 3
   },
   "file_extension": ".py",
   "mimetype": "text/x-python",
   "name": "python",
   "nbconvert_exporter": "python",
   "pygments_lexer": "ipython3",
   "version": "3.10.7"
  },
  "orig_nbformat": 4
 },
 "nbformat": 4,
 "nbformat_minor": 2
}
