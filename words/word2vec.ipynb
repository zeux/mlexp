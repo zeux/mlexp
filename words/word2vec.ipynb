{
 "cells": [
  {
   "cell_type": "code",
   "execution_count": 1,
   "id": "6875ac1a-b856-4c1c-a110-d1c8667e590e",
   "metadata": {
    "tags": []
   },
   "outputs": [],
   "source": [
    "import torch\n",
    "import torch.nn as nn\n",
    "import torch.nn.functional as F\n",
    "import torch.utils.data as D"
   ]
  },
  {
   "cell_type": "code",
   "execution_count": 2,
   "id": "b34b1253-81b6-461d-be8c-10490ee2dbd2",
   "metadata": {
    "tags": []
   },
   "outputs": [],
   "source": [
    "import matplotlib.pyplot as plt\n",
    "%matplotlib inline"
   ]
  },
  {
   "cell_type": "code",
   "execution_count": 3,
   "id": "ced2be00-b535-4099-b309-42acd50c99f5",
   "metadata": {
    "tags": []
   },
   "outputs": [],
   "source": [
    "import trainer\n",
    "from trainer import device"
   ]
  },
  {
   "cell_type": "code",
   "execution_count": 4,
   "id": "746de097-1c91-40b2-af98-031f7a8d3d5b",
   "metadata": {
    "tags": []
   },
   "outputs": [],
   "source": [
    "import re"
   ]
  },
  {
   "cell_type": "code",
   "execution_count": 5,
   "id": "88ee361e-e5e7-4634-ada3-5467c422f526",
   "metadata": {
    "tags": []
   },
   "outputs": [],
   "source": [
    "# load dictionary (100k words) from /usr/share/dict/words\n",
    "with open('/usr/share/dict/words', 'r') as f:\n",
    "    vocab = {}\n",
    "    for line in f:\n",
    "        word = line.strip().replace(\"'\",\"\").lower()\n",
    "        if not word in vocab:\n",
    "            vocab[word] = len(vocab)\n",
    "\n",
    "words = sorted(vocab.keys(), key=lambda w: vocab[w])\n",
    "\n",
    "assert(len(words) == len(vocab))\n",
    "assert(vocab[words[42]] == 42)"
   ]
  },
  {
   "cell_type": "code",
   "execution_count": 6,
   "id": "813d9c6f-e289-43cb-a3a8-2dbb5e4d32b0",
   "metadata": {
    "tags": []
   },
   "outputs": [],
   "source": [
    "# given a sentence, generate skip-gram pairs of words as indices\n",
    "phrase_re = re.compile(r'[!.;()\"\\']+')\n",
    "word_re = re.compile(r'[,\\s-]+')\n",
    "\n",
    "def sentences(str):\n",
    "    return [[w.lower() for w in word_re.split(p) if len(w) > 0] for p in phrase_re.split(str.lower())]\n",
    "\n",
    "def skipgrams(str, n=2):\n",
    "    r = []\n",
    "    for p in sentences(str):\n",
    "        ws = [vocab[w] for w in p if w in vocab]\n",
    "        for i, w in enumerate(ws):\n",
    "            for j in range(i-n, i+n+1):\n",
    "                if j >= 0 and j < len(ws) and j != i:\n",
    "                    r.append((ws[i], ws[j]))\n",
    "    return r"
   ]
  },
  {
   "cell_type": "code",
   "execution_count": 7,
   "id": "e0cf7c39-4348-47ca-b6f6-f9883ffe93ef",
   "metadata": {
    "tags": []
   },
   "outputs": [],
   "source": [
    "# given a file, iterate over skipgrams in batches of a given size\n",
    "# batch is represented as a one-hot vector for now\n",
    "def skipgram_iter(path, batch_size):\n",
    "    batch = []\n",
    "    with open(path, 'r', errors='ignore') as f:\n",
    "        for line in f:\n",
    "            batch += skipgrams(line)\n",
    "            while len(batch) >= batch_size:\n",
    "                xb = torch.tensor([torch.tensor(x, dtype=torch.long) for x,y in batch[:batch_size]])\n",
    "                yb = torch.tensor([torch.tensor(y, dtype=torch.long) for x,y in batch[:batch_size]])\n",
    "                yield F.one_hot(xb, len(vocab)).float(), yb\n",
    "                batch = batch[batch_size:]"
   ]
  },
  {
   "cell_type": "code",
   "execution_count": 8,
   "id": "97f18d7f-ceb3-4805-8de7-f4b48e3789f5",
   "metadata": {
    "tags": []
   },
   "outputs": [],
   "source": [
    "# word2vec network\n",
    "class Word2Vec(nn.Module):\n",
    "    def __init__(self, n_hidden):\n",
    "        super().__init__()\n",
    "        self.u = nn.Linear(len(vocab), n_hidden, bias=False)\n",
    "        self.v = nn.Linear(n_hidden, len(vocab), bias=False)\n",
    "        \n",
    "    def forward(self, x):\n",
    "        return self.v(self.u(x))\n",
    "    \n",
    "    def loss(self, p, y):\n",
    "        return F.cross_entropy(p, y)"
   ]
  },
  {
   "cell_type": "code",
   "execution_count": 9,
   "id": "63139e5d-f821-4415-810c-bdb80244655b",
   "metadata": {
    "tags": []
   },
   "outputs": [
    {
     "name": "stdout",
     "output_type": "stream",
     "text": [
      "Train [90.477M params]: 20 epochs took 474.45 sec, train loss 7.901654, val loss 7.901654\n"
     ]
    },
    {
     "data": {
      "image/png": "[encoded data removed]",
      "text/plain": [
       "<Figure size 640x480 with 1 Axes>"
      ]
     },
     "metadata": {},
     "output_type": "display_data"
    }
   ],
   "source": [
    "# datasetSentences.txt has ~20K 32-pair batches\n",
    "net = Word2Vec(512).to(device)\n",
    "trainer.train(net, train_data=skipgram_iter(\"datasetSentences.txt\", batch_size=32), val_data=None, batch_limit=1000, epochs=20)"
   ]
  },
  {
   "cell_type": "code",
   "execution_count": 22,
   "id": "5452df23-6c9f-4c1f-b2e6-3c54dcd3b1e6",
   "metadata": {
    "tags": []
   },
   "outputs": [],
   "source": [
    "netw = (torch.transpose(net.u.weight.data, 0, 1) + net.v.weight.data).detach().cpu()"
   ]
  },
  {
   "cell_type": "code",
   "execution_count": 67,
   "id": "6098bc0b-f29c-45a6-bbb8-53e9161387f3",
   "metadata": {
    "tags": []
   },
   "outputs": [],
   "source": [
    "def encode(w):\n",
    "    return netw[vocab[w]]\n",
    "\n",
    "def dist(w1, w2):\n",
    "    v1 = encode(w1)\n",
    "    v2 = encode(w2)\n",
    "    return torch.sqrt(((v1 - v2)**2).sum()).item()\n",
    "\n",
    "def decode(v, k=3):\n",
    "    d = netw - torch.unsqueeze(v, 0)\n",
    "    l2 = (d * d).sum(1)\n",
    "    tk = torch.topk(l2, k, largest=False).indices\n",
    "    return [(words[i], l2[i].item()) for i in tk]"
   ]
  },
  {
   "cell_type": "code",
   "execution_count": 92,
   "id": "8d94587a-19f6-4d44-b816-1a385d53dce1",
   "metadata": {
    "tags": []
   },
   "outputs": [
    {
     "data": {
      "text/plain": [
       "[('his', 26.837474822998047),\n",
       " ('their', 28.420135498046875),\n",
       " ('her', 30.70106315612793)]"
      ]
     },
     "execution_count": 92,
     "metadata": {},
     "output_type": "execute_result"
    }
   ],
   "source": [
    "decode(encode(\"man\") - encode(\"woman\") + encode(\"her\"))"
   ]
  }
 ],
 "metadata": {
  "kernelspec": {
   "display_name": "Python 3 (ipykernel)",
   "language": "python",
   "name": "python3"
  },
  "language_info": {
   "codemirror_mode": {
    "name": "ipython",
    "version": 3
   },
   "file_extension": ".py",
   "mimetype": "text/x-python",
   "name": "python",
   "nbconvert_exporter": "python",
   "pygments_lexer": "ipython3",
   "version": "3.10.7"
  }
 },
 "nbformat": 4,
 "nbformat_minor": 5
}
