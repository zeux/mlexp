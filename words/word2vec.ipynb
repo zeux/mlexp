{
 "cells": [
  {
   "cell_type": "code",
   "execution_count": 1,
   "id": "6875ac1a-b856-4c1c-a110-d1c8667e590e",
   "metadata": {
    "tags": []
   },
   "outputs": [],
   "source": [
    "import torch\n",
    "import torch.nn as nn\n",
    "import torch.nn.functional as F\n",
    "import torch.utils.data as D"
   ]
  },
  {
   "cell_type": "code",
   "execution_count": 2,
   "id": "b34b1253-81b6-461d-be8c-10490ee2dbd2",
   "metadata": {
    "tags": []
   },
   "outputs": [],
   "source": [
    "import matplotlib.pyplot as plt\n",
    "%matplotlib inline"
   ]
  },
  {
   "cell_type": "code",
   "execution_count": 3,
   "id": "ced2be00-b535-4099-b309-42acd50c99f5",
   "metadata": {
    "tags": []
   },
   "outputs": [],
   "source": [
    "import trainer\n",
    "from trainer import device"
   ]
  },
  {
   "cell_type": "code",
   "execution_count": 4,
   "id": "746de097-1c91-40b2-af98-031f7a8d3d5b",
   "metadata": {
    "tags": []
   },
   "outputs": [],
   "source": [
    "import re"
   ]
  },
  {
   "cell_type": "code",
   "execution_count": 5,
   "id": "88ee361e-e5e7-4634-ada3-5467c422f526",
   "metadata": {
    "tags": []
   },
   "outputs": [],
   "source": [
    "# load dictionary (100k words) from /usr/share/dict/words\n",
    "with open('/usr/share/dict/words', 'r') as f:\n",
    "    vocab = {}\n",
    "    for line in f:\n",
    "        word = line.strip().replace(\"'\",\"\").lower()\n",
    "        if not word in vocab:\n",
    "            vocab[word] = len(vocab)\n",
    "\n",
    "words = sorted(vocab.keys(), key=lambda w: vocab[w])\n",
    "\n",
    "assert(len(words) == len(vocab))\n",
    "assert(vocab[words[42]] == 42)"
   ]
  },
  {
   "cell_type": "code",
   "execution_count": 6,
   "id": "813d9c6f-e289-43cb-a3a8-2dbb5e4d32b0",
   "metadata": {
    "tags": []
   },
   "outputs": [],
   "source": [
    "# given a sentence, generate skip-gram pairs of words as indices\n",
    "phrase_re = re.compile(r'[!.;()\"\\']+')\n",
    "word_re = re.compile(r'[,\\s-]+')\n",
    "\n",
    "def sentences(str):\n",
    "    return [[w.lower() for w in word_re.split(p) if len(w) > 0] for p in phrase_re.split(str.lower())]\n",
    "\n",
    "def skipgrams(str, n=2):\n",
    "    r = []\n",
    "    for p in sentences(str):\n",
    "        ws = [vocab[w] for w in p if w in vocab]\n",
    "        for i, w in enumerate(ws):\n",
    "            for j in range(i-n, i+n+1):\n",
    "                if j >= 0 and j < len(ws) and j != i:\n",
    "                    r.append((ws[i], ws[j]))\n",
    "    return r"
   ]
  },
  {
   "cell_type": "code",
   "execution_count": 7,
   "id": "038fe2b2-8172-42d7-9d0a-c9f8f373caa8",
   "metadata": {
    "tags": []
   },
   "outputs": [],
   "source": [
    "import random\n",
    "import os.path\n",
    "\n",
    "# given a file, endlessly produce skipgrams from random offsets\n",
    "class SkipgramDataset(D.IterableDataset):\n",
    "    def __init__(self, path, n=2):\n",
    "        super().__init__()\n",
    "        self.file = open(path, 'r', errors='ignore')\n",
    "        self.size = os.path.getsize(path)\n",
    "        self.n = n\n",
    "    def __iter__(self):\n",
    "        block_size = 1024\n",
    "        while True:\n",
    "            offset = random.randrange(self.size - block_size)\n",
    "            self.file.seek(offset, 0)\n",
    "            block = self.file.read(block_size)\n",
    "            for x, y in skipgrams(block, self.n):\n",
    "                yield x, y"
   ]
  },
  {
   "cell_type": "code",
   "execution_count": 15,
   "id": "97f18d7f-ceb3-4805-8de7-f4b48e3789f5",
   "metadata": {
    "tags": []
   },
   "outputs": [],
   "source": [
    "# word2vec network\n",
    "# trains ~30s/batch (batch size 256, optimizer adamw)\n",
    "class Word2Vec(nn.Module):\n",
    "    def __init__(self, n_hidden):\n",
    "        super().__init__()\n",
    "        self.u = nn.Linear(len(vocab), n_hidden, bias=False)\n",
    "        self.v = nn.Linear(n_hidden, len(vocab), bias=False)\n",
    "        \n",
    "    def forward(self, x):\n",
    "        x = F.one_hot(x, len(vocab)).float()\n",
    "        return self.v(self.u(x))\n",
    "    \n",
    "    def loss(self, p, y):\n",
    "        return F.cross_entropy(p, y)\n",
    "    \n",
    "    @torch.no_grad()\n",
    "    def weights(self):\n",
    "        return (self.u.weight.data.T + net.v.weight.data).detach()"
   ]
  },
  {
   "cell_type": "code",
   "execution_count": 23,
   "id": "7b4cdbf4-4b3d-4afe-9868-eb9dc03f94e6",
   "metadata": {
    "tags": []
   },
   "outputs": [],
   "source": [
    "# word2vec network using embedding and negative sampling\n",
    "# trains ~23s/batch (batch size 256, optimizer adamw)\n",
    "class Word2VecEmb(nn.Module):\n",
    "    def __init__(self, n_hidden):\n",
    "        super().__init__()\n",
    "        self.u = nn.Embedding(len(vocab), n_hidden)\n",
    "        self.v = nn.Embedding(len(vocab), n_hidden)\n",
    "        self.u.weight.data /= len(vocab)**0.5\n",
    "        self.v.weight.data /= len(vocab)**0.5\n",
    "\n",
    "    def forward(self, x):\n",
    "        return self.u(x)\n",
    "    \n",
    "    def loss(self, p, y):\n",
    "        negk = 10\n",
    "        ny = torch.randint(len(vocab), (negk, y.shape[0]), device=y.device)\n",
    "        lp = (p * self.v(y)).sum(1)[None, :] # 1xB\n",
    "        ln = (p * self.v(ny)).sum(2) # KxB\n",
    "        lpn = torch.cat([lp, ln]) # K+1xB\n",
    "        exp = F.one_hot(torch.tensor(0, device=device), negk+1).float()[:, None].repeat(1, y.shape[0]) # K+1xB\n",
    "        return F.binary_cross_entropy_with_logits(lpn, exp)\n",
    "    \n",
    "    @torch.no_grad()\n",
    "    def weights(self):\n",
    "        return (self.u.weight.data + net.v.weight.data).detach()"
   ]
  },
  {
   "cell_type": "code",
   "execution_count": 26,
   "id": "63139e5d-f821-4415-810c-bdb80244655b",
   "metadata": {
    "tags": []
   },
   "outputs": [
    {
     "name": "stdout",
     "output_type": "stream",
     "text": [
      "Epoch 3/500: 23.09 sec, train loss 0.128468, val loss 0.128468, lr 0.001"
     ]
    },
    {
     "ename": "KeyboardInterrupt",
     "evalue": "",
     "output_type": "error",
     "traceback": [
      "\u001b[0;31m---------------------------------------------------------------------------\u001b[0m",
      "\u001b[0;31mKeyboardInterrupt\u001b[0m                         Traceback (most recent call last)",
      "Cell \u001b[0;32mIn[26], line 3\u001b[0m\n\u001b[1;32m      1\u001b[0m net \u001b[38;5;241m=\u001b[39m Word2VecEmb(\u001b[38;5;241m512\u001b[39m)\u001b[38;5;241m.\u001b[39mto(device)\n\u001b[1;32m      2\u001b[0m data \u001b[38;5;241m=\u001b[39m D\u001b[38;5;241m.\u001b[39mDataLoader(SkipgramDataset(\u001b[38;5;124m\"\u001b[39m\u001b[38;5;124m../gutenberg.txt\u001b[39m\u001b[38;5;124m\"\u001b[39m, n\u001b[38;5;241m=\u001b[39m\u001b[38;5;241m3\u001b[39m), batch_size\u001b[38;5;241m=\u001b[39m\u001b[38;5;241m256\u001b[39m, num_workers\u001b[38;5;241m=\u001b[39m\u001b[38;5;241m6\u001b[39m)\n\u001b[0;32m----> 3\u001b[0m \u001b[43mtrainer\u001b[49m\u001b[38;5;241;43m.\u001b[39;49m\u001b[43mtrain\u001b[49m\u001b[43m(\u001b[49m\u001b[43mnet\u001b[49m\u001b[43m,\u001b[49m\u001b[43m \u001b[49m\u001b[43mdata\u001b[49m\u001b[43m,\u001b[49m\u001b[43m \u001b[49m\u001b[38;5;28;43;01mNone\u001b[39;49;00m\u001b[43m,\u001b[49m\u001b[43m \u001b[49m\u001b[43mbatch_limit\u001b[49m\u001b[38;5;241;43m=\u001b[39;49m\u001b[38;5;241;43m1000\u001b[39;49m\u001b[43m,\u001b[49m\u001b[43m \u001b[49m\u001b[43mepochs\u001b[49m\u001b[38;5;241;43m=\u001b[39;49m\u001b[38;5;241;43m500\u001b[39;49m\u001b[43m)\u001b[49m\n",
      "File \u001b[0;32m~/mlexp/words/trainer.py:49\u001b[0m, in \u001b[0;36mtrain\u001b[0;34m(model, train_data, val_data, epochs, batch_limit, optimizer, plot, **optargs)\u001b[0m\n\u001b[1;32m     47\u001b[0m \u001b[38;5;28;01mfor\u001b[39;00m e \u001b[38;5;129;01min\u001b[39;00m \u001b[38;5;28mrange\u001b[39m(epochs):\n\u001b[1;32m     48\u001b[0m     epoch_start \u001b[38;5;241m=\u001b[39m time\u001b[38;5;241m.\u001b[39mtime()\n\u001b[0;32m---> 49\u001b[0m     train_loss \u001b[38;5;241m=\u001b[39m \u001b[43mtrainiter\u001b[49m\u001b[43m(\u001b[49m\u001b[43mtrain_data\u001b[49m\u001b[43m,\u001b[49m\u001b[43m \u001b[49m\u001b[43mmodel\u001b[49m\u001b[43m,\u001b[49m\u001b[43m \u001b[49m\u001b[43moptimizer\u001b[49m\u001b[43m,\u001b[49m\u001b[43m \u001b[49m\u001b[43mbatch_limit\u001b[49m\u001b[43m)\u001b[49m\n\u001b[1;32m     50\u001b[0m     val_loss \u001b[38;5;241m=\u001b[39m \u001b[38;5;28meval\u001b[39m(val_data, model, batch_limit \u001b[38;5;241m/\u001b[39m\u001b[38;5;241m/\u001b[39m \u001b[38;5;241m10\u001b[39m \u001b[38;5;28;01mif\u001b[39;00m batch_limit \u001b[38;5;28;01melse\u001b[39;00m \u001b[38;5;28;01mNone\u001b[39;00m) \u001b[38;5;28;01mif\u001b[39;00m val_data \u001b[38;5;28;01melse\u001b[39;00m train_loss\n\u001b[1;32m     51\u001b[0m     \u001b[38;5;28mprint\u001b[39m(\u001b[38;5;124mf\u001b[39m\u001b[38;5;124m\"\u001b[39m\u001b[38;5;130;01m\\r\u001b[39;00m\u001b[38;5;124mEpoch \u001b[39m\u001b[38;5;132;01m{\u001b[39;00me\u001b[38;5;132;01m}\u001b[39;00m\u001b[38;5;124m/\u001b[39m\u001b[38;5;132;01m{\u001b[39;00mepochs\u001b[38;5;132;01m}\u001b[39;00m\u001b[38;5;124m: \u001b[39m\u001b[38;5;132;01m{\u001b[39;00mtime\u001b[38;5;241m.\u001b[39mtime()\u001b[38;5;241m-\u001b[39mepoch_start\u001b[38;5;132;01m:\u001b[39;00m\u001b[38;5;124m.2f\u001b[39m\u001b[38;5;132;01m}\u001b[39;00m\u001b[38;5;124m sec, train loss \u001b[39m\u001b[38;5;132;01m{\u001b[39;00mtrain_loss\u001b[38;5;132;01m:\u001b[39;00m\u001b[38;5;124m>8f\u001b[39m\u001b[38;5;132;01m}\u001b[39;00m\u001b[38;5;124m, val loss \u001b[39m\u001b[38;5;132;01m{\u001b[39;00mval_loss\u001b[38;5;132;01m:\u001b[39;00m\u001b[38;5;124m>8f\u001b[39m\u001b[38;5;132;01m}\u001b[39;00m\u001b[38;5;124m, lr \u001b[39m\u001b[38;5;132;01m{\u001b[39;00moptimizer\u001b[38;5;241m.\u001b[39mparam_groups[\u001b[38;5;241m0\u001b[39m][\u001b[38;5;124m'\u001b[39m\u001b[38;5;124mlr\u001b[39m\u001b[38;5;124m'\u001b[39m]\u001b[38;5;132;01m}\u001b[39;00m\u001b[38;5;124m\"\u001b[39m, end\u001b[38;5;241m=\u001b[39m\u001b[38;5;124m\"\u001b[39m\u001b[38;5;124m\"\u001b[39m)\n",
      "File \u001b[0;32m~/mlexp/words/trainer.py:29\u001b[0m, in \u001b[0;36mtrainiter\u001b[0;34m(data, model, optimizer, batch_limit)\u001b[0m\n\u001b[1;32m     27\u001b[0m \u001b[38;5;28;01mif\u001b[39;00m i \u001b[38;5;241m==\u001b[39m batch_limit:\n\u001b[1;32m     28\u001b[0m     \u001b[38;5;28;01mbreak\u001b[39;00m\n\u001b[0;32m---> 29\u001b[0m x, y \u001b[38;5;241m=\u001b[39m \u001b[43mx\u001b[49m\u001b[38;5;241;43m.\u001b[39;49m\u001b[43mto\u001b[49m\u001b[43m(\u001b[49m\u001b[43mdevice\u001b[49m\u001b[43m)\u001b[49m, y\u001b[38;5;241m.\u001b[39mto(device)\n\u001b[1;32m     31\u001b[0m pred \u001b[38;5;241m=\u001b[39m model\u001b[38;5;241m.\u001b[39mforward(x)\n\u001b[1;32m     32\u001b[0m loss \u001b[38;5;241m=\u001b[39m model\u001b[38;5;241m.\u001b[39mloss(pred, y)\n",
      "\u001b[0;31mKeyboardInterrupt\u001b[0m: "
     ]
    }
   ],
   "source": [
    "net = Word2VecEmb(512).to(device)\n",
    "data = D.DataLoader(SkipgramDataset(\"../gutenberg.txt\", n=3), batch_size=256, num_workers=6)\n",
    "trainer.train(net, data, None, batch_limit=1000, epochs=500)"
   ]
  },
  {
   "cell_type": "code",
   "execution_count": 19,
   "id": "5452df23-6c9f-4c1f-b2e6-3c54dcd3b1e6",
   "metadata": {
    "tags": []
   },
   "outputs": [],
   "source": [
    "netw = net.weights()"
   ]
  },
  {
   "cell_type": "code",
   "execution_count": 21,
   "id": "6098bc0b-f29c-45a6-bbb8-53e9161387f3",
   "metadata": {
    "tags": []
   },
   "outputs": [],
   "source": [
    "def encode(w):\n",
    "    return netw[vocab[w]]\n",
    "\n",
    "def dist(w1, w2):\n",
    "    v1 = encode(w1)\n",
    "    v2 = encode(w2)\n",
    "    return torch.sqrt(((v1 - v2)**2).sum()).item()\n",
    "\n",
    "def decode(v, k=3):\n",
    "    d = netw - torch.unsqueeze(v, 0)\n",
    "    l2 = (d * d).sum(1)\n",
    "    tk = torch.topk(l2, k, largest=False).indices\n",
    "    return [(words[i], l2[i].item()) for i in tk]"
   ]
  },
  {
   "cell_type": "code",
   "execution_count": 22,
   "id": "8d94587a-19f6-4d44-b816-1a385d53dce1",
   "metadata": {
    "tags": []
   },
   "outputs": [
    {
     "data": {
      "text/plain": [
       "[('his', 21.64535140991211),\n",
       " ('in', 25.31583023071289),\n",
       " ('to', 27.344970703125)]"
      ]
     },
     "execution_count": 22,
     "metadata": {},
     "output_type": "execute_result"
    }
   ],
   "source": [
    "decode(encode(\"man\") - encode(\"woman\") + encode(\"her\"))"
   ]
  }
 ],
 "metadata": {
  "kernelspec": {
   "display_name": "Python 3 (ipykernel)",
   "language": "python",
   "name": "python3"
  },
  "language_info": {
   "codemirror_mode": {
    "name": "ipython",
    "version": 3
   },
   "file_extension": ".py",
   "mimetype": "text/x-python",
   "name": "python",
   "nbconvert_exporter": "python",
   "pygments_lexer": "ipython3",
   "version": "3.10.7"
  }
 },
 "nbformat": 4,
 "nbformat_minor": 5
}
