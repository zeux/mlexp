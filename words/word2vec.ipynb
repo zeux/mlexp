{
 "cells": [
  {
   "cell_type": "code",
   "execution_count": 1,
   "id": "6875ac1a-b856-4c1c-a110-d1c8667e590e",
   "metadata": {
    "tags": []
   },
   "outputs": [],
   "source": [
    "import torch\n",
    "import torch.nn as nn\n",
    "import torch.nn.functional as F\n",
    "import torch.utils.data as D"
   ]
  },
  {
   "cell_type": "code",
   "execution_count": 2,
   "id": "b34b1253-81b6-461d-be8c-10490ee2dbd2",
   "metadata": {
    "tags": []
   },
   "outputs": [],
   "source": [
    "import matplotlib.pyplot as plt\n",
    "%matplotlib inline"
   ]
  },
  {
   "cell_type": "code",
   "execution_count": 3,
   "id": "ced2be00-b535-4099-b309-42acd50c99f5",
   "metadata": {
    "tags": []
   },
   "outputs": [],
   "source": [
    "import trainer\n",
    "from trainer import device"
   ]
  },
  {
   "cell_type": "code",
   "execution_count": 4,
   "id": "746de097-1c91-40b2-af98-031f7a8d3d5b",
   "metadata": {
    "tags": []
   },
   "outputs": [],
   "source": [
    "import re"
   ]
  },
  {
   "cell_type": "code",
   "execution_count": 5,
   "id": "88ee361e-e5e7-4634-ada3-5467c422f526",
   "metadata": {
    "tags": []
   },
   "outputs": [],
   "source": [
    "# load dictionary (100k words) from /usr/share/dict/words\n",
    "with open('/usr/share/dict/words', 'r') as f:\n",
    "    vocab = {}\n",
    "    for line in f:\n",
    "        word = line.strip().replace(\"'\",\"\").lower()\n",
    "        if not word in vocab:\n",
    "            vocab[word] = len(vocab)\n",
    "\n",
    "words = sorted(vocab.keys(), key=lambda w: vocab[w])\n",
    "\n",
    "assert(len(words) == len(vocab))\n",
    "assert(vocab[words[42]] == 42)"
   ]
  },
  {
   "cell_type": "code",
   "execution_count": 6,
   "id": "813d9c6f-e289-43cb-a3a8-2dbb5e4d32b0",
   "metadata": {
    "tags": []
   },
   "outputs": [],
   "source": [
    "# given a sentence, generate skip-gram pairs of words as indices\n",
    "phrase_re = re.compile(r'[!.;()\"\\']+')\n",
    "word_re = re.compile(r'[,\\s-]+')\n",
    "\n",
    "def sentences(str):\n",
    "    return [[w.lower() for w in word_re.split(p) if len(w) > 0] for p in phrase_re.split(str.lower())]\n",
    "\n",
    "def skipgrams(str, n=2):\n",
    "    r = []\n",
    "    for p in sentences(str):\n",
    "        ws = [vocab[w] for w in p if w in vocab]\n",
    "        for i, w in enumerate(ws):\n",
    "            for j in range(i-n, i+n+1):\n",
    "                if j >= 0 and j < len(ws) and j != i:\n",
    "                    r.append((ws[i], ws[j]))\n",
    "    return r"
   ]
  },
  {
   "cell_type": "code",
   "execution_count": 7,
   "id": "038fe2b2-8172-42d7-9d0a-c9f8f373caa8",
   "metadata": {
    "tags": []
   },
   "outputs": [],
   "source": [
    "import random\n",
    "import os.path\n",
    "\n",
    "# given a file, endlessly produce skipgrams from random offsets\n",
    "class SkipgramDataset(D.IterableDataset):\n",
    "    def __init__(self, path, n=2):\n",
    "        super().__init__()\n",
    "        self.file = open(path, 'r', errors='ignore')\n",
    "        self.size = os.path.getsize(path)\n",
    "        self.n = n\n",
    "    def __iter__(self):\n",
    "        block_size = 1024\n",
    "        while True:\n",
    "            offset = random.randrange(self.size - block_size)\n",
    "            self.file.seek(offset, 0)\n",
    "            block = self.file.read(block_size)\n",
    "            for x, y in skipgrams(block, self.n):\n",
    "                yield x, y"
   ]
  },
  {
   "cell_type": "code",
   "execution_count": 8,
   "id": "97f18d7f-ceb3-4805-8de7-f4b48e3789f5",
   "metadata": {
    "tags": []
   },
   "outputs": [],
   "source": [
    "# word2vec network\n",
    "# trains ~30s/batch (batch size 256, optimizer adamw)\n",
    "class Word2Vec(nn.Module):\n",
    "    def __init__(self, n_hidden):\n",
    "        super().__init__()\n",
    "        self.u = nn.Linear(len(vocab), n_hidden, bias=False)\n",
    "        self.v = nn.Linear(n_hidden, len(vocab), bias=False)\n",
    "        \n",
    "    def forward(self, x):\n",
    "        x = F.one_hot(x, len(vocab)).float()\n",
    "        return self.v(self.u(x))\n",
    "    \n",
    "    def loss(self, p, y):\n",
    "        return F.cross_entropy(p, y)\n",
    "    \n",
    "    @torch.no_grad()\n",
    "    def weights(self):\n",
    "        return (self.u.weight.data.T + self.v.weight.data).detach()"
   ]
  },
  {
   "cell_type": "code",
   "execution_count": 9,
   "id": "7b4cdbf4-4b3d-4afe-9868-eb9dc03f94e6",
   "metadata": {
    "tags": []
   },
   "outputs": [],
   "source": [
    "# word2vec network using embedding and negative sampling\n",
    "# trains ~23s/batch (batch size 256, optimizer adamw)\n",
    "class Word2VecEmb(nn.Module):\n",
    "    def __init__(self, n_hidden, n_k=10):\n",
    "        super().__init__()\n",
    "        self.u = nn.Embedding(len(vocab), n_hidden)\n",
    "        self.v = nn.Embedding(len(vocab), n_hidden)\n",
    "        self.n_k = n_k\n",
    "\n",
    "        wr = len(vocab)**-0.5\n",
    "        torch.nn.init.normal_(self.u.weight.data, 0, wr)\n",
    "        torch.nn.init.normal_(self.v.weight.data, 0, wr)\n",
    "\n",
    "    def forward(self, x):\n",
    "        return self.u(x)\n",
    "    \n",
    "    def loss(self, p, y):\n",
    "        B = y.shape[0]\n",
    "        # ideally this should be weighted by word probability instead of being uniform\n",
    "        ny = torch.randint(len(vocab), (self.n_k, B), device=y.device)\n",
    "        lp = (p * self.v(y)).sum(1) # B\n",
    "        ln = (p * self.v(ny)).sum(2) # KxB\n",
    "        return -(F.logsigmoid(lp).sum() + F.logsigmoid(-ln).sum() / self.n_k) / B\n",
    "    \n",
    "    @torch.no_grad()\n",
    "    def weights(self):\n",
    "        return (self.u.weight.data + self.v.weight.data).detach()"
   ]
  },
  {
   "cell_type": "code",
   "execution_count": 10,
   "id": "63139e5d-f821-4415-810c-bdb80244655b",
   "metadata": {
    "tags": []
   },
   "outputs": [
    {
     "name": "stdout",
     "output_type": "stream",
     "text": [
      "Train [45.238M params]: 1000 epochs took 11151.37 sec, train loss 0.352808, val loss 0.000000\n"
     ]
    },
    {
     "data": {
      "image/png": "[encoded data removed]",
      "text/plain": [
       "<Figure size 640x480 with 1 Axes>"
      ]
     },
     "metadata": {},
     "output_type": "display_data"
    }
   ],
   "source": [
    "net = Word2VecEmb(256).to(device)\n",
    "data = D.DataLoader(SkipgramDataset(\"../gutenberg.txt\", n=3), batch_size=256, num_workers=6)\n",
    "trainer.train(net, data, batch_limit=1000, epochs=1000)"
   ]
  },
  {
   "cell_type": "code",
   "execution_count": 16,
   "id": "5b70c782",
   "metadata": {},
   "outputs": [],
   "source": [
    "netw = net.weights()"
   ]
  },
  {
   "cell_type": "code",
   "execution_count": 17,
   "id": "6098bc0b-f29c-45a6-bbb8-53e9161387f3",
   "metadata": {
    "tags": []
   },
   "outputs": [],
   "source": [
    "def encode(w):\n",
    "    return netw[vocab[w]]\n",
    "\n",
    "def dist(w1, w2):\n",
    "    v1 = encode(w1)\n",
    "    v2 = encode(w2)\n",
    "    return torch.sqrt(((v1 - v2)**2).sum()).item()\n",
    "\n",
    "def decode(v, k=3):\n",
    "    d = netw - torch.unsqueeze(v, 0)\n",
    "    l2 = (d * d).sum(1)\n",
    "    tk = torch.topk(l2, k, largest=False).indices\n",
    "    return [(words[i], l2[i].item()) for i in tk]"
   ]
  },
  {
   "cell_type": "code",
   "execution_count": 18,
   "id": "8d94587a-19f6-4d44-b816-1a385d53dce1",
   "metadata": {
    "tags": []
   },
   "outputs": [
    {
     "data": {
      "text/plain": [
       "[('his', 24.02366828918457),\n",
       " ('he', 30.355552673339844),\n",
       " ('her', 31.553482055664062)]"
      ]
     },
     "execution_count": 18,
     "metadata": {},
     "output_type": "execute_result"
    }
   ],
   "source": [
    "decode(encode(\"man\") - encode(\"woman\") + encode(\"her\"))"
   ]
  },
  {
   "cell_type": "code",
   "execution_count": 20,
   "id": "14deb76f",
   "metadata": {},
   "outputs": [
    {
     "data": {
      "text/plain": [
       "[('czar', 5.425647735595703),\n",
       " ('moscow', 5.621978759765625),\n",
       " ('viceroy', 6.0333051681518555)]"
      ]
     },
     "execution_count": 20,
     "metadata": {},
     "output_type": "execute_result"
    }
   ],
   "source": [
    "countries = [\"china\", \"russia\", \"japan\", \"turkey\", \"poland\", \"germany\", \"france\", \"italy\", \"greece\", \"spain\", \"portugal\"]\n",
    "capitals = [\"beijing\", \"moscow\", \"tokyo\", \"ankara\", \"warsaw\", \"berlin\", \"paris\", \"rome\", \"athens\", \"madrid\", \"lisbon\"]\n",
    "\n",
    "capital_of = torch.sum(torch.stack([encode(ca) - encode(co) for ca,co in zip(capitals, countries)]), 0) / len(capitals)\n",
    "\n",
    "decode(capital_of + encode(\"russia\"))"
   ]
  },
  {
   "cell_type": "code",
   "execution_count": null,
   "id": "929787bc",
   "metadata": {},
   "outputs": [],
   "source": []
  }
 ],
 "metadata": {
  "kernelspec": {
   "display_name": "Python 3 (ipykernel)",
   "language": "python",
   "name": "python3"
  },
  "language_info": {
   "codemirror_mode": {
    "name": "ipython",
    "version": 3
   },
   "file_extension": ".py",
   "mimetype": "text/x-python",
   "name": "python",
   "nbconvert_exporter": "python",
   "pygments_lexer": "ipython3",
   "version": "3.10.7"
  }
 },
 "nbformat": 4,
 "nbformat_minor": 5
}
