{
 "cells": [
  {
   "cell_type": "code",
   "execution_count": 1,
   "id": "afc07df6-ad91-4948-bb55-c1e4f92852c3",
   "metadata": {
    "tags": []
   },
   "outputs": [],
   "source": [
    "import torch\n",
    "import torch.nn as nn\n",
    "import torch.nn.functional as F\n",
    "import torch.nn.init as I\n",
    "import torch.utils.data as D\n",
    "\n",
    "import torchvision.datasets\n",
    "import torchvision.transforms as T\n",
    "import torchvision.models\n",
    "\n",
    "import time"
   ]
  },
  {
   "cell_type": "code",
   "execution_count": 2,
   "id": "6f29a239-e13a-4c22-b50f-9ff9f3a75843",
   "metadata": {
    "tags": []
   },
   "outputs": [],
   "source": [
    "import matplotlib.pyplot as plt\n",
    "%matplotlib inline"
   ]
  },
  {
   "cell_type": "code",
   "execution_count": 3,
   "id": "7628c576-6611-4dee-8a1b-b2e2706d6a73",
   "metadata": {
    "tags": []
   },
   "outputs": [
    {
     "data": {
      "text/plain": [
       "'cuda'"
      ]
     },
     "execution_count": 3,
     "metadata": {},
     "output_type": "execute_result"
    }
   ],
   "source": [
    "device = \"cuda\" if torch.cuda.is_available() else \"cpu\"\n",
    "device"
   ]
  },
  {
   "cell_type": "code",
   "execution_count": 4,
   "id": "1510af0a-5f5a-4b2a-9449-167207782508",
   "metadata": {
    "tags": []
   },
   "outputs": [],
   "source": [
    "def img_resize(x):\n",
    "    x = T.functional.to_tensor(x)\n",
    "    x = T.functional.resize(x, [256, 256], antialias=False)\n",
    "    return x\n",
    "\n",
    "def img_augment(x, y):\n",
    "    rand = torch.rand(5)\n",
    "    angle = rand[0].item() * 20 - 10 # +-10 degrees rotation\n",
    "    offsetx = rand[1].item() * 100 - 50 # +-50 pixel translation\n",
    "    offsety = rand[2].item() * 100 - 50 # +-50 pixel translation\n",
    "    scale = 1.0 # rand[3].item() * 0.5 + 0.75 # +-25% scale\n",
    "    shear = rand[4].item() * 20 - 10 # +-10 degrees shear\n",
    "\n",
    "    x = img_resize(x)\n",
    "    y = img_resize(y)\n",
    "    x = T.functional.pad(x, 128, padding_mode=\"reflect\")\n",
    "    y = T.functional.pad(y, 128, padding_mode=\"reflect\")\n",
    "\n",
    "    x = T.functional.affine(x, angle, [offsetx, offsety], scale, shear)\n",
    "    y = T.functional.affine(y, angle, [offsetx, offsety], scale, shear)\n",
    "    \n",
    "    x = T.functional.center_crop(x, 256)\n",
    "    y = T.functional.center_crop(y, 256)\n",
    "        \n",
    "    return x, y"
   ]
  },
  {
   "cell_type": "code",
   "execution_count": 5,
   "id": "a772f0a1-868f-4173-bf80-f38b716500d2",
   "metadata": {
    "tags": []
   },
   "outputs": [
    {
     "name": "stdout",
     "output_type": "stream",
     "text": [
      "Using downloaded and verified file: ./VOCtrainval_11-May-2012.tar\n",
      "Extracting ./VOCtrainval_11-May-2012.tar to .\n",
      "Using downloaded and verified file: ./VOCtrainval_11-May-2012.tar\n",
      "Extracting ./VOCtrainval_11-May-2012.tar to .\n"
     ]
    }
   ],
   "source": [
    "dataset = torchvision.datasets.VOCSegmentation(\".\", image_set=\"trainval\", download=True, transform=lambda i: img_resize(i), target_transform=lambda i: img_resize(i))\n",
    "dataset_aug = torchvision.datasets.VOCSegmentation(\".\", image_set=\"trainval\", download=True, transforms=lambda x, y: img_augment(x, y))\n",
    "assert(len(dataset) == len(dataset_aug))"
   ]
  },
  {
   "cell_type": "code",
   "execution_count": 6,
   "id": "f095e690-826a-4695-99ae-7a210afd9886",
   "metadata": {
    "tags": []
   },
   "outputs": [],
   "source": [
    "batch_size = 4\n",
    "train_cutoff = int(len(dataset) * 0.9)\n",
    "train_data = D.DataLoader(D.Subset(dataset_aug, range(train_cutoff)), batch_size=batch_size, num_workers=4)\n",
    "val_data = D.DataLoader(D.Subset(dataset, range(train_cutoff, len(dataset))), batch_size=batch_size, num_workers=4)"
   ]
  },
  {
   "cell_type": "code",
   "execution_count": 7,
   "id": "2cd646b8-3f70-44f8-9b48-c8ea8e34aa52",
   "metadata": {
    "tags": []
   },
   "outputs": [],
   "source": [
    "def train(data, model, optimizer):\n",
    "    losses = []\n",
    "    model.train()\n",
    "    for x, y in data:\n",
    "        x, y = x.to(device), y.to(device)\n",
    "\n",
    "        pred = model.forward(x)\n",
    "        loss = model.loss(pred, y)\n",
    "        losses.append(loss.item())\n",
    "\n",
    "        optimizer.zero_grad()\n",
    "        loss.backward()\n",
    "        optimizer.step()\n",
    "    return torch.tensor(losses).mean().item()"
   ]
  },
  {
   "cell_type": "code",
   "execution_count": 8,
   "id": "f298879e-4286-4d52-8cac-9e6ca1406908",
   "metadata": {
    "tags": []
   },
   "outputs": [],
   "source": [
    "@torch.no_grad()\n",
    "def eval(data, model):\n",
    "    loss = 0\n",
    "    model.eval()\n",
    "    for x, y in data:\n",
    "        x, y = x.to(device), y.to(device)\n",
    "        pred = model.forward(x)\n",
    "        loss += model.loss(pred, y).item()\n",
    "    return loss / len(data)"
   ]
  },
  {
   "cell_type": "code",
   "execution_count": 9,
   "id": "0cfd040f-3d18-46eb-b760-8690393b3f2c",
   "metadata": {
    "tags": []
   },
   "outputs": [],
   "source": [
    "def trainloop(model, epochs=5, optimizer=torch.optim.AdamW, **optargs):\n",
    "    optimizer = optimizer(model.parameters(), **optargs)\n",
    "    scheduler = torch.optim.lr_scheduler.ReduceLROnPlateau(optimizer, patience=5, factor=0.5)\n",
    "    start = time.time()\n",
    "    train_losses, val_losses = [], []\n",
    "    for e in range(epochs):\n",
    "        epoch_start = time.time()\n",
    "        train_loss = train(train_data, model, optimizer)\n",
    "        val_loss = eval(val_data, model)\n",
    "        print(f\"\\rEpoch {e}/{epochs}: {time.time()-epoch_start:.2f} sec, train loss {train_loss:>8f}, val loss {val_loss:>8f}, lr {optimizer.param_groups[0]['lr']}\", end=\"\")\n",
    "        scheduler.step(val_loss)\n",
    "        train_losses.append(train_loss)\n",
    "        val_losses.append(val_loss)\n",
    "    nparams = sum(p.numel() for p in model.parameters())\n",
    "    print(f\"\\rTrain [{nparams/1e6:.3f}M params]: {epochs} epochs took {time.time()-start:.2f} sec, train loss {train_loss:>8f}, val loss {val_loss:>8f}\")\n",
    "    plt.plot(train_losses, label=\"train\")\n",
    "    plt.plot(val_losses, label=\"val\")\n",
    "    plt.legend()\n",
    "    plt.show()"
   ]
  },
  {
   "cell_type": "code",
   "execution_count": 10,
   "id": "5cc39a85-df3e-42ae-ac74-78b5dfd55d26",
   "metadata": {
    "tags": []
   },
   "outputs": [],
   "source": [
    "def weight_init(m):\n",
    "    if isinstance(m, nn.Conv2d):\n",
    "        I.xavier_normal_(m.weight)\n",
    "        I.constant_(m.bias, 0)"
   ]
  },
  {
   "cell_type": "code",
   "execution_count": 11,
   "id": "0701c2f2-2551-4f5e-935f-fbcf223046b7",
   "metadata": {
    "tags": []
   },
   "outputs": [],
   "source": [
    "class SegBlock(nn.Module):\n",
    "    def __init__(self, inc, midc, outc):\n",
    "        super().__init__()\n",
    "        self.layers = nn.Sequential(\n",
    "            nn.Conv2d(inc, midc, kernel_size=3, padding=1),\n",
    "            nn.BatchNorm2d(midc),\n",
    "            nn.ReLU(),\n",
    "            nn.Conv2d(midc, outc, kernel_size=3, padding=1),\n",
    "            nn.BatchNorm2d(outc),\n",
    "            nn.ReLU())\n",
    "        \n",
    "    def forward(self, x):\n",
    "        return self.layers(x)\n",
    "        \n",
    "class SegNet(nn.Module):\n",
    "    def __init__(self, depth, channels):\n",
    "        super().__init__()\n",
    "        self.depth = depth\n",
    "\n",
    "        self.encoder = []\n",
    "        for i in range(depth):\n",
    "            self.encoder.append(SegBlock(3 if i == 0 else channels << (i-1), channels << i, channels << i))\n",
    "            self.encoder.append(nn.MaxPool2d(kernel_size=2, stride=2))\n",
    "        self.encoder = nn.ModuleList(self.encoder)\n",
    "\n",
    "        self.transform = SegBlock(channels << (depth - 1), channels << depth, channels << depth)\n",
    "\n",
    "        self.decoder = []\n",
    "        for i in range(depth, 0, -1):\n",
    "            self.decoder.append(nn.ConvTranspose2d(channels << i, channels << i, kernel_size=2, stride=2))\n",
    "            # note: between these layers we'll have concat which will double channel count\n",
    "            self.decoder.append(SegBlock((channels << i) + (channels << (i-1)), channels << (i-1), channels << (i-1)))\n",
    "        self.decoder = nn.ModuleList(self.decoder)\n",
    "            \n",
    "        self.predict = nn.Sequential(\n",
    "            SegBlock(channels, channels, channels),\n",
    "            nn.Conv2d(channels, 1, kernel_size=1))\n",
    "\n",
    "        self.apply(weight_init)\n",
    "        \n",
    "    # image => image\n",
    "    def forward(self, x):\n",
    "        copies = []\n",
    "        for i in range(self.depth):\n",
    "            conv, pool = self.encoder[i*2], self.encoder[i*2+1]\n",
    "            x = conv(x)\n",
    "            copies.append(x)\n",
    "            x = pool(x)\n",
    "            \n",
    "        x = self.transform(x)\n",
    "        \n",
    "        for i in range(self.depth):\n",
    "            up, conv = self.decoder[i*2], self.decoder[i*2+1]\n",
    "            x = up(x)\n",
    "            x = torch.cat((x, copies[-(i+1)]), dim=1)\n",
    "            x = conv(x)\n",
    "        \n",
    "        y = self.predict(x)\n",
    "        y = F.sigmoid(y)\n",
    "        return y\n",
    "    \n",
    "    # prediction, gt => loss scalar\n",
    "    def loss(self, p, y):\n",
    "        bce = F.binary_cross_entropy(p, y)\n",
    "        dice = 2 * (p * y).sum() / (p.sum() + y.sum())\n",
    "        return bce - torch.log(dice)"
   ]
  },
  {
   "cell_type": "code",
   "execution_count": 12,
   "id": "1b1599c8-4017-402e-843c-0e99925f0858",
   "metadata": {
    "tags": []
   },
   "outputs": [
    {
     "name": "stdout",
     "output_type": "stream",
     "text": [
      "Train [9.271M params]: 30 epochs took 536.57 sec, train loss 1.304305, val loss 1.437601\n"
     ]
    },
    {
     "data": {
      "image/png": "[encoded data removed]",
      "text/plain": [
       "<Figure size 640x480 with 1 Axes>"
      ]
     },
     "metadata": {},
     "output_type": "display_data"
    }
   ],
   "source": [
    "# UNet that loosely follows the architecture from the UNet paper but has slightly different setup; this cell has a scaled down version so that it trains faster\n",
    "torch.manual_seed(42)\n",
    "net = SegNet(depth=5, channels=16).to(device)\n",
    "trainloop(net, epochs=30, weight_decay=0.01)"
   ]
  },
  {
   "cell_type": "code",
   "execution_count": 13,
   "id": "dc241939-5ffd-453b-ab56-bd50bdf44074",
   "metadata": {
    "tags": []
   },
   "outputs": [],
   "source": [
    "class SegNetVGG(nn.Module):\n",
    "    def __init__(self, vgg):\n",
    "        super().__init__()\n",
    "        \n",
    "        self.relu = nn.ReLU(inplace=True)\n",
    "\n",
    "        # we will use VGG feature subnet as encoder; freeze the weights\n",
    "        self.encoder = vgg.features\n",
    "        for p in self.encoder.parameters():\n",
    "            p.requires_grad = False\n",
    "            \n",
    "        # instead of spending time figuring out a generic reconstruction, let's hardcode the decoder structure for now\n",
    "        # VGG11 has 5 downsampling steps; it starts from 64 channels and ends with 512 channels in the final feature map\n",
    "        self.transform = nn.Conv2d(512, 512, kernel_size=3, padding=1)\n",
    "        \n",
    "        # as an experiment, we'll use single-conv upsampling blocks instead of a slightly more complex setup that UNet uses\n",
    "        self.decoder = nn.Sequential(\n",
    "            nn.ConvTranspose2d(512, 256, kernel_size=2, stride=2),\n",
    "            nn.Conv2d(512 + 256, 512, kernel_size=3, padding=1),\n",
    "            \n",
    "            nn.ConvTranspose2d(512, 256, kernel_size=2, stride=2),\n",
    "            nn.Conv2d(512 + 256, 512, kernel_size=3, padding=1),\n",
    "\n",
    "            nn.ConvTranspose2d(512, 128, kernel_size=2, stride=2),\n",
    "            nn.Conv2d(256 + 128, 256, kernel_size=3, padding=1),\n",
    "\n",
    "            nn.ConvTranspose2d(256, 64, kernel_size=2, stride=2),\n",
    "            nn.Conv2d(128 + 64, 128, kernel_size=3, padding=1),\n",
    "\n",
    "            nn.ConvTranspose2d(128, 32, kernel_size=2, stride=2),\n",
    "            nn.Conv2d(64 + 32, 32, kernel_size=3, padding=1),\n",
    "        )\n",
    "\n",
    "        self.predict = nn.Sequential(\n",
    "            nn.Conv2d(32, 1, kernel_size=1),\n",
    "            nn.Sigmoid())\n",
    "\n",
    "    # image => image\n",
    "    def forward(self, x):\n",
    "        cdim = x.dim() - 3 # pick C from B?, C, H, W\n",
    "        \n",
    "        # renormalize image using VGG11 coeffs\n",
    "        x = (x - 0.456) / 0.224\n",
    "\n",
    "        # encoder\n",
    "        x = self.relu(self.encoder[0](x)) # conv 3->64\n",
    "        e0 = x # 64\n",
    "        x = self.encoder[2](x) # maxpool\n",
    "        x = self.relu(self.encoder[3](x)) # conv 64->128\n",
    "        e1 = x # 128\n",
    "        x = self.encoder[5](x) # maxpool\n",
    "        x = self.relu(self.encoder[6](x)) # conv 128->256\n",
    "        x = self.relu(self.encoder[8](x)) # conv 256->256\n",
    "        e2 = x # 256\n",
    "        x = self.encoder[10](x) # maxpool\n",
    "        x = self.relu(self.encoder[11](x)) # conv 256->512\n",
    "        x = self.relu(self.encoder[13](x)) # conv 512->512\n",
    "        e3 = x # 512\n",
    "        x = self.encoder[15](x) # maxpool\n",
    "        x = self.relu(self.encoder[16](x)) # conv 512->512\n",
    "        x = self.relu(self.encoder[18](x)) # conv 512->512\n",
    "        e4 = x # 512\n",
    "        x = self.encoder[20](x) # maxpool\n",
    "        \n",
    "        # bottleneck\n",
    "        x = self.relu(self.transform(x))\n",
    "        \n",
    "        # decoder\n",
    "        x = self.relu(self.decoder[0](x)) # upconv 512->256\n",
    "        x = torch.cat((e4, x), dim=cdim)\n",
    "        x = self.relu(self.decoder[1](x)) # conv 512+256->512\n",
    "\n",
    "        x = self.relu(self.decoder[2](x)) # upconv 512->256\n",
    "        x = torch.cat((e3, x), dim=cdim)\n",
    "        x = self.relu(self.decoder[3](x)) # conv 512+256->512\n",
    "\n",
    "        x = self.relu(self.decoder[4](x)) # upconv 512->128\n",
    "        x = torch.cat((e2, x), dim=cdim)\n",
    "        x = self.relu(self.decoder[5](x)) # conv 256+128->256\n",
    "\n",
    "        x = self.relu(self.decoder[6](x)) # upconv 256->64\n",
    "        x = torch.cat((e1, x), dim=cdim)\n",
    "        x = self.relu(self.decoder[7](x)) # conv 128+64->128\n",
    "\n",
    "        x = self.relu(self.decoder[8](x)) # upconv 128->32\n",
    "        x = torch.cat((e0, x), dim=cdim)\n",
    "        x = self.relu(self.decoder[9](x)) # conv 64+32->32\n",
    "\n",
    "        return self.predict(x)\n",
    "\n",
    "    # prediction, gt => loss scalar\n",
    "    def loss(self, p, y):\n",
    "        bce = F.binary_cross_entropy(p, y)\n",
    "        dice = 2 * (p * y).sum() / (p.sum() + y.sum())\n",
    "        return bce - torch.log(dice)"
   ]
  },
  {
   "cell_type": "code",
   "execution_count": 14,
   "id": "eeb37c5b-b24b-4942-b32d-68b19d29495f",
   "metadata": {
    "tags": []
   },
   "outputs": [
    {
     "name": "stdout",
     "output_type": "stream",
     "text": [
      "Train [21.187M params]: 30 epochs took 1011.07 sec, train loss 0.726728, val loss 1.319711\n"
     ]
    },
    {
     "data": {
      "image/png": "[encoded data removed]",
      "text/plain": [
       "<Figure size 640x480 with 1 Axes>"
      ]
     },
     "metadata": {},
     "output_type": "display_data"
    }
   ],
   "source": [
    "torch.manual_seed(42)\n",
    "netvgg = SegNetVGG(torchvision.models.vgg11(weights=\"DEFAULT\")).to(device)\n",
    "trainloop(netvgg, epochs=30, weight_decay=0.01)"
   ]
  },
  {
   "cell_type": "code",
   "execution_count": 16,
   "id": "23bbcb90-b60a-4a00-9984-3886007629ce",
   "metadata": {
    "tags": []
   },
   "outputs": [],
   "source": [
    "# ^ is obviously overfitted but I don't care about this right now :)"
   ]
  },
  {
   "cell_type": "code",
   "execution_count": 90,
   "id": "4802b1a9-c2c1-4141-b993-b95f7cc68c81",
   "metadata": {
    "tags": []
   },
   "outputs": [],
   "source": [
    "# run visualize() to show a few examples of both models\n",
    "def visualize(num=5):\n",
    "    idx = torch.randint(len(dataset), (num,))\n",
    "    bx = torch.stack([dataset[i][0] for i in idx])\n",
    "    by = torch.stack([dataset[i][1] for i in idx])\n",
    "    bps = net(bx.to(device)).cpu().detach()\n",
    "    bpv = netvgg(bx.to(device)).cpu().detach()\n",
    "\n",
    "    f, axarr = plt.subplots(idx.shape[0], 4, figsize=(24,24), squeeze=False)\n",
    "    for i in range(idx.shape[0]):\n",
    "        ix = idx[i].item()\n",
    "        axarr[i][0].imshow(dataset[ix][0].permute(1, 2, 0))\n",
    "        axarr[i][1].imshow(dataset[ix][1].permute(1, 2, 0))\n",
    "        axarr[i][2].imshow(bps[i].permute(1, 2, 0) > 0.3)\n",
    "        axarr[i][3].imshow(bpv[i].permute(1, 2, 0) > 0.3)\n",
    "        for j in range(4):\n",
    "            axarr[i][j].axis('off')\n",
    "    plt.tight_layout()"
   ]
  },
  {
   "cell_type": "code",
   "execution_count": null,
   "id": "019eadbd-437d-4845-a355-973a0df24e2f",
   "metadata": {},
   "outputs": [],
   "source": []
  }
 ],
 "metadata": {
  "kernelspec": {
   "display_name": "Python 3 (ipykernel)",
   "language": "python",
   "name": "python3"
  },
  "language_info": {
   "codemirror_mode": {
    "name": "ipython",
    "version": 3
   },
   "file_extension": ".py",
   "mimetype": "text/x-python",
   "name": "python",
   "nbconvert_exporter": "python",
   "pygments_lexer": "ipython3",
   "version": "3.10.7"
  }
 },
 "nbformat": 4,
 "nbformat_minor": 5
}
