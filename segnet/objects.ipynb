{
 "cells": [
  {
   "cell_type": "code",
   "execution_count": 1,
   "id": "4db144bc-8bde-46af-b579-5402ec5189b9",
   "metadata": {
    "tags": []
   },
   "outputs": [],
   "source": [
    "import torch\n",
    "import torch.nn as nn\n",
    "import torch.nn.functional as F\n",
    "import torch.utils.data as D\n",
    "\n",
    "import torchvision.datasets\n",
    "import torchvision.transforms as T\n",
    "import torchvision.models"
   ]
  },
  {
   "cell_type": "code",
   "execution_count": 2,
   "id": "ea7259b2-7a83-4340-8697-2b58e43f9010",
   "metadata": {
    "tags": []
   },
   "outputs": [],
   "source": [
    "import sys\n",
    "if 'trainer' in sys.modules:\n",
    "    del sys.modules['trainer']\n",
    "import trainer\n",
    "from trainer import device"
   ]
  },
  {
   "cell_type": "code",
   "execution_count": 3,
   "id": "47549a06-6b28-4e76-9fe9-b372cf646399",
   "metadata": {
    "tags": []
   },
   "outputs": [],
   "source": [
    "import matplotlib.pyplot as plt\n",
    "import matplotlib.patches as patches\n",
    "%matplotlib inline"
   ]
  },
  {
   "cell_type": "code",
   "execution_count": 4,
   "id": "5d84c07b-9bc8-4369-be68-9f685bef60ea",
   "metadata": {
    "tags": []
   },
   "outputs": [
    {
     "name": "stdout",
     "output_type": "stream",
     "text": [
      "Using downloaded and verified file: ./VOCtrainval_11-May-2012.tar\n",
      "Extracting ./VOCtrainval_11-May-2012.tar to .\n",
      "Using downloaded and verified file: ./VOCtrainval_11-May-2012.tar\n",
      "Extracting ./VOCtrainval_11-May-2012.tar to .\n"
     ]
    }
   ],
   "source": [
    "dataset = torchvision.datasets.VOCDetection(\".\", download=True, image_set=\"trainval\", transforms=lambda x, y: voc_transform(x, y))\n",
    "dataset_aug = torchvision.datasets.VOCDetection(\".\", download=True, image_set=\"trainval\", transforms=lambda x, y: voc_transform(x, y, augment=True))\n",
    "classes = {'__none__':0, 'aeroplane':1, 'bicycle':2, 'bird':3, 'boat':4, 'bottle':5, 'bus':6, 'car':7, 'cat':8, 'chair':9, 'cow':10, 'diningtable':11, 'dog':12, 'horse':13, 'motorbike':14, 'person':15, 'pottedplant':16, 'sheep':17, 'sofa':18, 'train':19, 'tvmonitor':20}"
   ]
  },
  {
   "cell_type": "code",
   "execution_count": 5,
   "id": "dfff0a57-e6bb-4332-8e59-74606d00e6c7",
   "metadata": {
    "tags": []
   },
   "outputs": [],
   "source": [
    "def voc_transform(x, y, augment=False, grid=13):\n",
    "    ann = y[\"annotation\"]\n",
    "    width, height = int(ann[\"size\"][\"width\"]), int(ann[\"size\"][\"height\"])\n",
    "\n",
    "    x = T.functional.to_tensor(x)\n",
    "    # TODO: aspect ratio preserving resize\n",
    "    x = T.functional.resize(x, [grid*32, grid*32], antialias=False)\n",
    "    \n",
    "    augx, augy, augs, augf = 0, 0, 1, False\n",
    "    \n",
    "    if augment:\n",
    "        rnd = torch.rand((4,))\n",
    "        augx = rnd[0].item() * 0.6 - 0.3 # +-30% translate\n",
    "        augy = rnd[1].item() * 0.6 - 0.3\n",
    "        augs = rnd[2].item() * 0.7 + 0.5 # 0.5 .. 1.2\n",
    "        augf = rnd[3].item() < 0.1 # 10% change of horizontal flip\n",
    "        \n",
    "        x = T.functional.affine(x, 0, [int(augx * x.shape[1]), int(augy * x.shape[2])], augs, 0)\n",
    "        if augf:\n",
    "            x = T.functional.hflip(x)\n",
    "\n",
    "    y = torch.zeros((5, grid, grid))\n",
    "    for obj in ann[\"object\"]:\n",
    "        bbox = obj[\"bndbox\"]\n",
    "        clsid = classes[obj[\"name\"]]\n",
    "        bx, by, bw, bh = int(bbox[\"xmin\"]) / width, int(bbox[\"ymin\"]) / height, (int(bbox[\"xmax\"]) - int(bbox[\"xmin\"])) / width, (int(bbox[\"ymax\"]) - int(bbox[\"ymin\"])) / height\n",
    "        \n",
    "        if augment:\n",
    "            bx0, bx1, by0, by1 = bx, bx + bw, by, by + bh\n",
    "            # scale around image center and translate\n",
    "            bx0 = (bx0 - 0.5) * augs + 0.5 + augx\n",
    "            bx1 = (bx1 - 0.5) * augs + 0.5 + augx\n",
    "            by0 = (by0 - 0.5) * augs + 0.5 + augy\n",
    "            by1 = (by1 - 0.5) * augs + 0.5 + augy\n",
    "            # flip\n",
    "            if augf:\n",
    "                bx0, bx1 = 1 - bx1, 1 - bx0\n",
    "            # clip\n",
    "            bx0 = max(bx0, 0)\n",
    "            by0 = max(by0, 0)\n",
    "            bx1 = min(bx1, 1)\n",
    "            by1 = min(by1, 1)\n",
    "            # reconstruct x/y/w/h; note that w/h may become negative, it will be discarded below\n",
    "            bx, by, bw, bh = bx0, by0, bx1 - bx0, by1 - by0         \n",
    "            \n",
    "        if bw < 0.01 or bh < 0.01:\n",
    "            continue\n",
    "\n",
    "        cx, cy = int((bx + bw * 0.5) * grid), int((by + bh * 0.5) * grid)\n",
    "        y[:, cy, cx] = torch.tensor([clsid, bx, by, bw, bh])\n",
    "\n",
    "    return x, y"
   ]
  },
  {
   "cell_type": "code",
   "execution_count": 6,
   "id": "d1358384-364c-4e77-9b25-a13b6eafdc09",
   "metadata": {
    "tags": []
   },
   "outputs": [],
   "source": [
    "def voc_display(x, y):\n",
    "    fig, ax = plt.subplots()\n",
    "    ax.imshow(x.permute(1, 2, 0))\n",
    "    w, h = x.shape[2], x.shape[1]\n",
    "    palette = \"rgbcmy\"\n",
    "    index = 0\n",
    "    for cy in range(y.shape[1]):\n",
    "        for cx in range(y.shape[2]):\n",
    "            obj = y[:, cy, cx]\n",
    "            if obj[0] == 0:\n",
    "                continue\n",
    "            name = next(n for n,i in classes.items() if i == int(obj[0]))\n",
    "            bx, by, bw, bh = obj[1:]\n",
    "            color = palette[index % len(palette)]\n",
    "            index += 1\n",
    "            rect = patches.Rectangle((bx * w, (by+bh) * h), bw * w, -bh * h, linewidth=1, edgecolor=color, facecolor='none')\n",
    "            ax.add_patch(rect)\n",
    "            # cell = patches.Rectangle((cx/13*w, (cy+1)/13*h), w/13, -h/13, linewidth=1, edgecolor=color, facecolor='none')\n",
    "            # ax.add_patch(cell)\n",
    "            ax.text(bx * w + 4, by * h - 4, name, c=color)\n",
    "    plt.show()"
   ]
  },
  {
   "cell_type": "code",
   "execution_count": 7,
   "id": "38ba271d-71dd-4a90-9614-bd665e08074c",
   "metadata": {},
   "outputs": [],
   "source": [
    "batch_size = 32\n",
    "train_cutoff = int(len(dataset) * 0.9)\n",
    "train_data = D.DataLoader(D.Subset(dataset_aug, range(train_cutoff)), batch_size=batch_size, num_workers=12)\n",
    "val_data = D.DataLoader(D.Subset(dataset, range(train_cutoff, len(dataset))), batch_size=batch_size, num_workers=8)"
   ]
  },
  {
   "cell_type": "code",
   "execution_count": 8,
   "id": "2396d347-927c-4032-9430-2b899f84aafa",
   "metadata": {},
   "outputs": [],
   "source": [
    "# as a backbone, we're going to use VGG feature detector. Larger models could improve the quality. We're standardizing on 416x416 => 13x13 networks though so it has to be 5-deep\n",
    "vgg = torchvision.models.vgg11(weights=\"DEFAULT\").features\n",
    "for p in vgg.parameters():\n",
    "    p.requires_grad=False"
   ]
  },
  {
   "cell_type": "code",
   "execution_count": 31,
   "id": "cac48e1a-5ca5-47d8-84ec-bfb1c8381456",
   "metadata": {
    "jupyter": {
     "source_hidden": true
    },
    "tags": []
   },
   "outputs": [],
   "source": [
    "# This is an attempt to implement multiple anchors.\n",
    "# The logic for losses/prediction is convoluted enough that this, unsurprisingly, doesn't work.\n",
    "# I'm sure it can be made to work with enough effort but I'm kinda done with this :)\n",
    "class SSDMultiBox(nn.Module):\n",
    "    # TODO: replace background class with objectness?\n",
    "    def __init__(self, backbone, classes=21, grid=13, channels=512):\n",
    "        super().__init__()\n",
    "        self.grid = grid\n",
    "        self.classes = classes\n",
    "\n",
    "        self.anchors = []\n",
    "        for scale in [1, 3, 7, 11]:\n",
    "            for aspect in [1/3, 1/2, 1, 2, 3]:\n",
    "                if aspect > 1:\n",
    "                    aw = scale\n",
    "                    ah = scale / aspect\n",
    "                else:\n",
    "                    aw = scale * aspect\n",
    "                    ah = scale\n",
    "                       \n",
    "                self.anchors.append((aw / grid, ah / grid))\n",
    "        \n",
    "        self.backbone = backbone    \n",
    "        self.detect = nn.Sequential(\n",
    "            nn.Conv2d(channels, channels, kernel_size=1),\n",
    "            nn.BatchNorm2d(channels),\n",
    "            nn.ReLU(inplace=True),\n",
    "            nn.Conv2d(channels, channels, kernel_size=3, padding=1),\n",
    "            nn.BatchNorm2d(channels),\n",
    "            nn.ReLU(inplace=True),\n",
    "            nn.Conv2d(channels, len(self.anchors)*(4+classes), kernel_size=1))\n",
    "        \n",
    "        self.register_buffer('gridoffx', torch.arange(grid)/grid)\n",
    "        self.register_buffer('gridoffy', torch.unsqueeze(torch.arange(grid), dim=1)/grid)\n",
    "\n",
    "    def forward(self, x):\n",
    "        # normalize image using VGG mean/std\n",
    "        x = (x - 0.456) / 0.224\n",
    "\n",
    "        # detect box candidates\n",
    "        # TODO: forward a 26x26 layer to detect as well, similar to YOLOv2\n",
    "        y = self.backbone(x)\n",
    "        y = self.detect(y)\n",
    "        \n",
    "        # transform box xywh to image space\n",
    "        for aidx, (aw, ah) in enumerate(self.anchors):\n",
    "            aoff = aidx * (4+self.classes)\n",
    "\n",
    "            y[:, aoff+0, :, :] = F.sigmoid(y[:, aoff+0, :, :])/self.grid + self.gridoffx\n",
    "            y[:, aoff+1, :, :] = F.sigmoid(y[:, aoff+1, :, :])/self.grid + self.gridoffy\n",
    "            y[:, aoff+2, :, :] = torch.exp(y[:, aoff+2, :, :])*aw\n",
    "            y[:, aoff+3, :, :] = torch.exp(y[:, aoff+3, :, :])*ah\n",
    "\n",
    "            # we infer center of bbox, so we need to convert it to corner\n",
    "            y[:, aoff+0, :, :] -= y[:, aoff+2, :, :] * 0.5\n",
    "            y[:, aoff+1, :, :] -= y[:, aoff+3, :, :] * 0.5\n",
    "\n",
    "        return y\n",
    "    \n",
    "    @torch.no_grad()\n",
    "    def predict(self, x):\n",
    "        p = self.forward(x)\n",
    "        \n",
    "        # grab log/box for first anchor\n",
    "        plog = p[:, 4:4+self.classes, :, :]\n",
    "        pbox = p[:, 0:4, :, :]\n",
    "\n",
    "        # replace log/box with an anchor if its max probability is higher\n",
    "        for aidx in range(len(self.anchors)):\n",
    "            aoff = aidx * (4+self.classes)\n",
    "            alog = p[:, aoff+4:aoff+4+self.classes, :, :]\n",
    "            abox = p[:, aoff:aoff+4, :, :]\n",
    "            \n",
    "            alog1 = torch.clone(alog)\n",
    "            alog1[:, 0, :, :] = 0\n",
    "            plog1 = torch.clone(plog)\n",
    "            plog1[:, 0, :, :] = 0\n",
    "\n",
    "            alogmax = torch.amax(alog1, dim=1, keepdim=True) # Bx1xHxW\n",
    "            plogmax = torch.amax(plog1, dim=1, keepdim=True) # Bx1xHxW\n",
    "            amask = torch.gt(alogmax, plogmax).int().float()\n",
    "\n",
    "            plog += (alog - plog) * amask\n",
    "            pbox += (abox - pbox) * amask\n",
    "\n",
    "        # predict\n",
    "        pcat = torch.argmax(plog, dim=1, keepdim=True)\n",
    "        return torch.cat((pcat, pbox), dim=1)\n",
    "    \n",
    "    def loss(self, p, y):\n",
    "        ycat = y[:, 0, :, :]\n",
    "        ybox = y[:, 1:, :, :]\n",
    "        \n",
    "        # we need to only consider box losses for present gt objects\n",
    "        ymask = (ycat > 0).float()\n",
    "        ynum = ymask.sum((1,2))\n",
    "        \n",
    "        lbatch = torch.zeros((y.shape[0],), dtype=torch.float, device=y.device)\n",
    "        lnorm = torch.zeros((y.shape[0],), dtype=torch.float, device=y.device)\n",
    "\n",
    "        wheps = 1e-3 # slightly bias w/h because our ground truth contains zeroes\n",
    "        athreshold = 0.3\n",
    "\n",
    "        for aidx, (aw, ah) in enumerate(self.anchors):\n",
    "            # only accumulate the loss in cells where iou(gt, anchor) > threshold\n",
    "            # iou(w1, h1, w2, h2) = (min(w1, w2) * min(h1, h2)) / (w1 * h1 + w2 * h2 - min(w1, w2) * min(h1, h2))\n",
    "            aiou_i = torch.minimum(ybox[:, 2], torch.tensor(aw)) * torch.minimum(ybox[:, 3], torch.tensor(ah))\n",
    "            aiou = aiou_i / (ybox[:, 2] * ybox[:, 3] + aw * ah - aiou_i + wheps)\n",
    "            amask = (aiou > athreshold).float()\n",
    "            \n",
    "            aoff = aidx * (4+self.classes)\n",
    "\n",
    "            plog = p[:, aoff+4:aoff+4+self.classes, :, :]\n",
    "            pbox = p[:, aoff:aoff+4, :, :]\n",
    "\n",
    "            # TODO: if we had a separate confidence prediction, we could mask lcat with amask? for now, mask category index to force background prediction...\n",
    "            lcat = F.cross_entropy(plog, (ycat * amask).long(), reduction='none')\n",
    "\n",
    "            lboxx = F.smooth_l1_loss(pbox[:, 0], ybox[:, 0], reduction='none')\n",
    "            lboxy = F.smooth_l1_loss(pbox[:, 1], ybox[:, 1], reduction='none')\n",
    "            lboxw = F.smooth_l1_loss(torch.log(pbox[:, 2]/aw + wheps), torch.log(ybox[:, 2]/aw + wheps), reduction='none')\n",
    "            lboxh = F.smooth_l1_loss(torch.log(pbox[:, 3]/ah + wheps), torch.log(ybox[:, 3]/ah + wheps), reduction='none')\n",
    "            lbox = (lboxx + lboxy + lboxw + lboxh) * ymask * amask\n",
    "            \n",
    "            lbatch += lcat.sum((1,2))\n",
    "            lbatch += lbox.sum((1,2))\n",
    "            lnorm += (ymask * amask).sum((1,2))\n",
    "        \n",
    "        # total loss per batch per dimension needs to be normalized by the number of boxes (per batch) and averaged across batches\n",
    "        return (lbatch / lnorm.clamp(min=1)).mean()"
   ]
  },
  {
   "cell_type": "code",
   "execution_count": 10,
   "id": "46cd2353-e1f8-434c-8df7-778af88a83f0",
   "metadata": {
    "tags": []
   },
   "outputs": [],
   "source": [
    "class SSD(nn.Module):\n",
    "    # TODO: replace background class with objectness?\n",
    "    def __init__(self, backbone, classes=21, grid=13, channels=512):\n",
    "        super().__init__()\n",
    "        self.grid = grid\n",
    "        self.classes = classes\n",
    "        \n",
    "        self.backbone = backbone    \n",
    "        self.detect = nn.Sequential(\n",
    "            nn.Conv2d(channels, channels, kernel_size=1),\n",
    "            nn.BatchNorm2d(channels),\n",
    "            nn.ReLU(inplace=True),\n",
    "            nn.Conv2d(channels, channels, kernel_size=3, padding=1),\n",
    "            nn.BatchNorm2d(channels),\n",
    "            nn.ReLU(inplace=True),\n",
    "            nn.Conv2d(channels, 4+classes, kernel_size=1))\n",
    "        \n",
    "        self.register_buffer('gridoffx', torch.arange(grid)/grid)\n",
    "        self.register_buffer('gridoffy', torch.unsqueeze(torch.arange(grid), dim=1)/grid)\n",
    "\n",
    "    def forward(self, x):\n",
    "        # normalize image using VGG mean/std\n",
    "        x = (x - 0.456) / 0.224\n",
    "\n",
    "        # detect box candidates\n",
    "        # TODO: forward a 26x26 layer to detect as well, similar to YOLOv2\n",
    "        y = self.backbone(x)\n",
    "        y = self.detect(y)\n",
    "        \n",
    "        # transform box xywh to image space\n",
    "        y[:, 0, :, :] = F.sigmoid(y[:, 0, :, :])/self.grid + self.gridoffx\n",
    "        y[:, 1, :, :] = F.sigmoid(y[:, 1, :, :])/self.grid + self.gridoffy\n",
    "        y[:, 2, :, :] = F.sigmoid(y[:, 2, :, :])\n",
    "        y[:, 3, :, :] = F.sigmoid(y[:, 3, :, :])\n",
    "\n",
    "        # we infer center of bbox, so we need to convert it to corner\n",
    "        y[:, 0, :, :] -= y[:, 2, :, :] * 0.5\n",
    "        y[:, 1, :, :] -= y[:, 3, :, :] * 0.5\n",
    "\n",
    "        return y\n",
    "    \n",
    "    @torch.no_grad()\n",
    "    def predict(self, x):\n",
    "        p = self.forward(x)\n",
    "        \n",
    "        plog = p[:, 4:, :, :]\n",
    "        pbox = p[:, :4, :, :]\n",
    "\n",
    "        pcat = torch.argmax(plog, dim=1, keepdim=True)\n",
    "        return torch.cat((pcat, pbox), dim=1)\n",
    "    \n",
    "    def loss(self, p, y):\n",
    "        ycat = y[:, 0, :, :]\n",
    "        ybox = y[:, 1:, :, :]\n",
    "        \n",
    "        # we need to only consider box losses for present gt objects\n",
    "        ymask = (ycat > 0).float()\n",
    "        \n",
    "        wheps = 1e-3 # slightly bias w/h because our ground truth contains zeroes\n",
    "\n",
    "        plog = p[:, 4:, :, :]\n",
    "        pbox = p[:, :4, :, :]\n",
    "\n",
    "        # TODO: this forces us to predict background for cells with no gt, but it might be better to use confidence\n",
    "        lcat = F.cross_entropy(plog, ycat.long(), reduction='none')\n",
    "\n",
    "        lboxx = F.smooth_l1_loss(pbox[:, 0], ybox[:, 0], reduction='none')\n",
    "        lboxy = F.smooth_l1_loss(pbox[:, 1], ybox[:, 1], reduction='none')\n",
    "        lboxw = F.smooth_l1_loss(pbox[:, 2], ybox[:, 2], reduction='none')\n",
    "        lboxh = F.smooth_l1_loss(pbox[:, 3], ybox[:, 3], reduction='none')\n",
    "        lbox = (lboxx + lboxy + lboxw + lboxh) * ymask\n",
    "\n",
    "        lbatch = lcat.sum((1,2)) + lbox.sum((1,2))\n",
    "        lnorm = ymask.sum((1,2))\n",
    "\n",
    "        # total loss per batch per dimension needs to be normalized by the number of boxes (per batch) and averaged across batches\n",
    "        return (lbatch / lnorm.clamp(min=1)).mean()"
   ]
  },
  {
   "cell_type": "code",
   "execution_count": 11,
   "id": "f3db4b23-686c-46b5-8771-0655e06f1658",
   "metadata": {
    "tags": []
   },
   "outputs": [
    {
     "name": "stdout",
     "output_type": "stream",
     "text": [
      "Train [11.858M params]: 50 epochs took 2094.05 sec, train loss 2.997608, val loss 5.144578\n"
     ]
    },
    {
     "data": {
      "image/png": "[encoded data removed]",
      "text/plain": [
       "<Figure size 640x480 with 1 Axes>"
      ]
     },
     "metadata": {},
     "output_type": "display_data"
    }
   ],
   "source": [
    "net = SSD(vgg).to(device)\n",
    "trainer.train(net, train_data, val_data, weight_decay=0.01, epochs=50)\n",
    "torch.save(net.state_dict(), \"objects.pth\")"
   ]
  },
  {
   "cell_type": "code",
   "execution_count": 14,
   "id": "ab519c29-72d9-48c7-aafa-b11808122bd2",
   "metadata": {
    "tags": []
   },
   "outputs": [],
   "source": [
    "from PIL import Image\n",
    "me = T.functional.to_tensor(Image.open('me.png'))\n",
    "me = T.functional.resize(me, [416,416], antialias=False)[:3]\n",
    "mepr = torch.squeeze(net.predict(torch.unsqueeze(me.to(device), dim=0)), dim=0).cpu().detach()\n",
    "# voc_display(me, mepr)"
   ]
  }
 ],
 "metadata": {
  "kernelspec": {
   "display_name": "Python 3 (ipykernel)",
   "language": "python",
   "name": "python3"
  },
  "language_info": {
   "codemirror_mode": {
    "name": "ipython",
    "version": 3
   },
   "file_extension": ".py",
   "mimetype": "text/x-python",
   "name": "python",
   "nbconvert_exporter": "python",
   "pygments_lexer": "ipython3",
   "version": "3.10.7"
  }
 },
 "nbformat": 4,
 "nbformat_minor": 5
}
