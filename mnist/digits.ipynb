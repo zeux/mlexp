{
 "cells": [
  {
   "cell_type": "code",
   "execution_count": 33,
   "id": "2ea0355d-6f98-4413-a178-c4819da7f22f",
   "metadata": {
    "tags": []
   },
   "outputs": [],
   "source": [
    "import torch\n",
    "import torch.nn as nn\n",
    "import torch.nn.functional as F\n",
    "import torch.utils.data as D\n",
    "\n",
    "import torchvision.datasets\n",
    "import torchvision.transforms as T"
   ]
  },
  {
   "cell_type": "code",
   "execution_count": 2,
   "id": "5a09189e-30b9-42cf-ad16-15791b73f8c9",
   "metadata": {
    "tags": []
   },
   "outputs": [],
   "source": [
    "import time"
   ]
  },
  {
   "cell_type": "code",
   "execution_count": 3,
   "id": "f3a3403b-f00d-4b15-a731-ea85626ef318",
   "metadata": {
    "tags": []
   },
   "outputs": [],
   "source": [
    "import matplotlib.pyplot as plt\n",
    "%matplotlib inline"
   ]
  },
  {
   "cell_type": "code",
   "execution_count": 125,
   "id": "1c1cf930-2f75-4e49-a098-c49310804930",
   "metadata": {
    "tags": []
   },
   "outputs": [],
   "source": [
    "augmentation = T.Compose([\n",
    "    T.ToTensor(),\n",
    "    T.RandomAffine(degrees=10, translate=(0.1, 0.1), scale=(0.8, 1.2)),\n",
    "])"
   ]
  },
  {
   "cell_type": "code",
   "execution_count": 38,
   "id": "784ea698-e420-437c-a966-6aed622a904b",
   "metadata": {
    "tags": []
   },
   "outputs": [],
   "source": [
    "mnist_train = torchvision.datasets.MNIST(\".\", train=True, download=True, transform=T.ToTensor())\n",
    "mnist_train_aug = torchvision.datasets.MNIST(\".\", train=True, download=True, transform=lambda i: augmentation(i))\n",
    "mnist_test = torchvision.datasets.MNIST(\".\", train=False, download=True, transform=T.ToTensor())"
   ]
  },
  {
   "cell_type": "code",
   "execution_count": 22,
   "id": "f6c768ad-8580-44de-ad0d-32ad92625125",
   "metadata": {
    "tags": []
   },
   "outputs": [],
   "source": [
    "batch_size = 128\n",
    "train_cutoff = int(len(mnist_train) * 0.9)\n",
    "train_data = D.DataLoader(D.Subset(mnist_train, range(train_cutoff)), batch_size=batch_size, num_workers=4)\n",
    "train_data_aug = D.DataLoader(D.Subset(mnist_train_aug, range(train_cutoff)), batch_size=batch_size, num_workers=12)\n",
    "val_data = D.DataLoader(D.Subset(mnist_train, range(train_cutoff, len(mnist_train))), batch_size=batch_size, num_workers=4)\n",
    "test_data = D.DataLoader(mnist_test, batch_size=batch_size, num_workers=4)"
   ]
  },
  {
   "cell_type": "code",
   "execution_count": 126,
   "id": "aa435962-04f6-47b7-892c-4eec35087c86",
   "metadata": {
    "tags": []
   },
   "outputs": [],
   "source": [
    "device = \"cuda\" if torch.cuda.is_available() else \"cpu\""
   ]
  },
  {
   "cell_type": "code",
   "execution_count": 127,
   "id": "e0f6f83d-1375-4656-97af-e06f88aa3bd5",
   "metadata": {
    "tags": []
   },
   "outputs": [],
   "source": [
    "class DigitsFC(nn.Module):\n",
    "    def __init__(self):\n",
    "        super().__init__()\n",
    "        self.layers = nn.Sequential(\n",
    "            nn.Flatten(),\n",
    "            nn.Linear(28*28, 512),\n",
    "            nn.ReLU(),\n",
    "            nn.Linear(512, 512),\n",
    "            nn.ReLU(),\n",
    "            nn.Linear(512, 10))\n",
    "        self.loss = nn.CrossEntropyLoss()\n",
    "        \n",
    "    # image => logit\n",
    "    def forward(self, x):\n",
    "        y = self.layers(x)\n",
    "        return y\n",
    "    \n",
    "    # image => prediction, probability\n",
    "    @torch.no_grad()\n",
    "    def predict(self, x):\n",
    "        y = self.forward(x)\n",
    "        p = F.softmax(y, dim=-1)\n",
    "        pv, pi = torch.max(p, dim=-1)\n",
    "        return pi, pv"
   ]
  },
  {
   "cell_type": "code",
   "execution_count": 59,
   "id": "886b10b9-8d37-401d-b64a-2090258d4f9c",
   "metadata": {
    "tags": []
   },
   "outputs": [],
   "source": [
    "def train(dataloader, model, optimizer):\n",
    "    losses = []\n",
    "    model.train()\n",
    "    for x, y in dataloader:\n",
    "        x, y = x.to(device), y.to(device)\n",
    "\n",
    "        pred = model.forward(x)\n",
    "        loss = model.loss(pred, y)\n",
    "        losses.append(loss.item())\n",
    "\n",
    "        optimizer.zero_grad()\n",
    "        loss.backward()\n",
    "        optimizer.step()\n",
    "    return torch.tensor(losses).mean().item()"
   ]
  },
  {
   "cell_type": "code",
   "execution_count": 60,
   "id": "c792ce88-d4a8-48d5-92b5-31f988bf7b0c",
   "metadata": {
    "tags": []
   },
   "outputs": [],
   "source": [
    "@torch.no_grad()\n",
    "def validate(dataloader, model):\n",
    "    model.eval()\n",
    "    loss = 0\n",
    "    for x, y in dataloader:\n",
    "        x, y = x.to(device), y.to(device)\n",
    "        pred = model(x)\n",
    "        loss += model.loss(pred, y).item()\n",
    "    return loss / len(dataloader)"
   ]
  },
  {
   "cell_type": "code",
   "execution_count": 61,
   "id": "f47d7c5b-699b-4813-a633-62673672381c",
   "metadata": {
    "tags": []
   },
   "outputs": [],
   "source": [
    "@torch.no_grad()\n",
    "def test(dataloader, model):\n",
    "    model.eval()\n",
    "    correct = 0\n",
    "    for x, y in dataloader:\n",
    "        x, y = x.to(device), y.to(device)\n",
    "        pred = model(x)\n",
    "        correct += (pred.argmax(1) == y).type(torch.float).sum().item()\n",
    "    correct /= len(dataloader) * batch_size\n",
    "    print(f\"Test accuracy: {(100*correct):>0.1f}%\")"
   ]
  },
  {
   "cell_type": "code",
   "execution_count": 135,
   "id": "c04237a4-2d69-4449-9ba4-b0006897ea73",
   "metadata": {
    "tags": []
   },
   "outputs": [],
   "source": [
    "def trainloop(model, epochs=5, optimizer=torch.optim.AdamW, verbose=False, **optargs):\n",
    "    optimizer = optimizer(model.parameters(), **optargs)\n",
    "    scheduler = torch.optim.lr_scheduler.ReduceLROnPlateau(optimizer, patience=5, factor=0.5)\n",
    "    start = time.time()\n",
    "    train_losses, val_losses = [], []\n",
    "    for e in range(epochs):\n",
    "        epoch_start = time.time()\n",
    "        train_loss = train(train_data_aug, model, optimizer)\n",
    "        val_loss = validate(val_data, model)\n",
    "        if verbose:\n",
    "            print(f\"Epoch {e}: {time.time()-epoch_start:.2f} sec, train loss {train_loss:>8f}, val loss {val_loss:>8f}, lr {optimizer.param_groups[0]['lr']}\")\n",
    "        scheduler.step(val_loss)\n",
    "        train_losses.append(train_loss)\n",
    "        val_losses.append(val_loss)\n",
    "    nparams = sum(p.numel() for p in m.parameters())\n",
    "    print(f\"Train [{nparams/1e6:.2f}M params]: {epochs} epochs took {time.time()-start:.2f} sec, train loss {train_loss:>8f}, val loss {val_loss:>8f}\")\n",
    "    plt.plot(train_losses, label=\"train\")\n",
    "    plt.plot(val_losses, label=\"val\")\n",
    "    plt.legend()\n",
    "    plt.show()"
   ]
  },
  {
   "cell_type": "code",
   "execution_count": 129,
   "id": "a922896d-69da-4a7e-8562-e458fe73c70d",
   "metadata": {
    "tags": []
   },
   "outputs": [],
   "source": [
    "def errorplot(dataset, model, count=5):\n",
    "    plt.figure()\n",
    "    f, axarr = plt.subplots(1, count)\n",
    "    for x, y in dataset:\n",
    "        pi, pv = model.predict(x.to(device))\n",
    "        if pi.item() != y:\n",
    "            ax = axarr[count-1]\n",
    "            ax.set_title(f\"pred {pi.item()} gt {y}\\nprob {pv.item():.2f}\")\n",
    "            ax.set_xticks([])\n",
    "            ax.set_yticks([])\n",
    "            ax.imshow(x[0], cmap=\"binary\")\n",
    "            count -= 1\n",
    "            if count == 0:\n",
    "                break"
   ]
  },
  {
   "cell_type": "code",
   "execution_count": 136,
   "id": "9ec78610-0031-49f5-90c0-5779ca984387",
   "metadata": {
    "tags": []
   },
   "outputs": [
    {
     "name": "stdout",
     "output_type": "stream",
     "text": [
      "Train [0.67M params]: 50 epochs took 115.46 sec, train loss 0.031799, val loss 0.029352\n"
     ]
    },
    {
     "data": {
      "image/png": "[encoded data removed]",
      "text/plain": [
       "<Figure size 640x480 with 1 Axes>"
      ]
     },
     "metadata": {},
     "output_type": "display_data"
    }
   ],
   "source": [
    "# 3 fully connected layers; reaches 0.029 loss in 50 epochs (2 minutes), 98.2% accuracy\n",
    "torch.manual_seed(42)\n",
    "m = DigitsFC().to(device)\n",
    "trainloop(m, epochs=50, weight_decay=0.01)"
   ]
  },
  {
   "cell_type": "code",
   "execution_count": 137,
   "id": "b14cdb02-78b0-4c3d-af84-14bf7c6bc1d9",
   "metadata": {
    "tags": []
   },
   "outputs": [
    {
     "data": {
      "text/plain": [
       "<Figure size 640x480 with 0 Axes>"
      ]
     },
     "metadata": {},
     "output_type": "display_data"
    },
    {
     "data": {
      "image/png": "[encoded data removed]",
      "text/plain": [
       "<Figure size 640x480 with 5 Axes>"
      ]
     },
     "metadata": {},
     "output_type": "display_data"
    }
   ],
   "source": [
    "errorplot(mnist_train, m)"
   ]
  },
  {
   "cell_type": "code",
   "execution_count": 138,
   "id": "0d6c9c79-93da-4bf7-88e7-3b4c89a10862",
   "metadata": {
    "tags": []
   },
   "outputs": [
    {
     "name": "stdout",
     "output_type": "stream",
     "text": [
      "Test accuracy: 98.2%\n"
     ]
    }
   ],
   "source": [
    "test(test_data, m)"
   ]
  }
 ],
 "metadata": {
  "kernelspec": {
   "display_name": "Python 3 (ipykernel)",
   "language": "python",
   "name": "python3"
  },
  "language_info": {
   "codemirror_mode": {
    "name": "ipython",
    "version": 3
   },
   "file_extension": ".py",
   "mimetype": "text/x-python",
   "name": "python",
   "nbconvert_exporter": "python",
   "pygments_lexer": "ipython3",
   "version": "3.10.7"
  }
 },
 "nbformat": 4,
 "nbformat_minor": 5
}
