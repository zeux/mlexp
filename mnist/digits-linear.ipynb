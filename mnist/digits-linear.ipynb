{
 "cells": [
  {
   "cell_type": "code",
   "execution_count": 1,
   "id": "2ea0355d-6f98-4413-a178-c4819da7f22f",
   "metadata": {
    "tags": []
   },
   "outputs": [],
   "source": [
    "import torch\n",
    "import torch.nn as nn\n",
    "import torch.nn.functional as F\n",
    "\n",
    "from torch.utils.data import DataLoader\n",
    "\n",
    "import torchvision.datasets\n",
    "import torchvision.transforms"
   ]
  },
  {
   "cell_type": "code",
   "execution_count": 2,
   "id": "5a09189e-30b9-42cf-ad16-15791b73f8c9",
   "metadata": {
    "tags": []
   },
   "outputs": [],
   "source": [
    "import time"
   ]
  },
  {
   "cell_type": "code",
   "execution_count": 3,
   "id": "475488c4-1481-425d-aff3-2c79ebce8152",
   "metadata": {
    "tags": []
   },
   "outputs": [],
   "source": [
    "import matplotlib.pyplot as plt\n",
    "%matplotlib inline"
   ]
  },
  {
   "cell_type": "code",
   "execution_count": 4,
   "id": "784ea698-e420-437c-a966-6aed622a904b",
   "metadata": {
    "tags": []
   },
   "outputs": [],
   "source": [
    "mnist_train = torchvision.datasets.MNIST(\".\", train=True, download=True, transform=torchvision.transforms.ToTensor())\n",
    "mnist_test = torchvision.datasets.MNIST(\".\", train=False, download=True, transform=torchvision.transforms.ToTensor())"
   ]
  },
  {
   "cell_type": "code",
   "execution_count": 20,
   "id": "f6c768ad-8580-44de-ad0d-32ad92625125",
   "metadata": {
    "tags": []
   },
   "outputs": [],
   "source": [
    "batch_size = 128\n",
    "train_data = DataLoader(mnist_train, batch_size=batch_size, num_workers=4)\n",
    "test_data = DataLoader(mnist_test, batch_size=batch_size)"
   ]
  },
  {
   "cell_type": "code",
   "execution_count": 6,
   "id": "aa435962-04f6-47b7-892c-4eec35087c86",
   "metadata": {
    "tags": []
   },
   "outputs": [],
   "source": [
    "device = \"cuda\" if torch.cuda.is_available() else \"cpu\""
   ]
  },
  {
   "cell_type": "code",
   "execution_count": 7,
   "id": "e0f6f83d-1375-4656-97af-e06f88aa3bd5",
   "metadata": {
    "tags": []
   },
   "outputs": [],
   "source": [
    "class Digits(nn.Module):\n",
    "    def __init__(self):\n",
    "        super().__init__()\n",
    "        self.layers = nn.Sequential(\n",
    "            nn.Flatten(),\n",
    "            nn.Linear(28*28, 512),\n",
    "            nn.ReLU(),\n",
    "            nn.Linear(512, 512),\n",
    "            nn.ReLU(),\n",
    "            nn.Linear(512, 10))\n",
    "        self.loss = nn.CrossEntropyLoss()\n",
    "        \n",
    "    # image => logit\n",
    "    def forward(self, x):\n",
    "        y = self.layers(x)\n",
    "        return y\n",
    "    \n",
    "    # image => prediction, probability\n",
    "    @torch.no_grad()\n",
    "    def predict(self, x):\n",
    "        y = self.forward(x)\n",
    "        p = F.softmax(y, dim=-1)\n",
    "        pv, pi = torch.max(p, dim=-1)\n",
    "        return pi, pv"
   ]
  },
  {
   "cell_type": "code",
   "execution_count": 13,
   "id": "886b10b9-8d37-401d-b64a-2090258d4f9c",
   "metadata": {
    "tags": []
   },
   "outputs": [],
   "source": [
    "def train(dataloader, model, optimizer):\n",
    "    losses = []\n",
    "    model.train()\n",
    "    for batch, (x, y) in enumerate(dataloader):\n",
    "        x, y = x.to(device), y.to(device)\n",
    "\n",
    "        pred = model.forward(x)\n",
    "        loss = model.loss(pred, y)\n",
    "        losses.append(loss.item())\n",
    "\n",
    "        optimizer.zero_grad()\n",
    "        loss.backward()\n",
    "        optimizer.step()\n",
    "    return losses"
   ]
  },
  {
   "cell_type": "code",
   "execution_count": 14,
   "id": "fa4c6092-bdb3-4f4e-9636-f7b43f1b0351",
   "metadata": {
    "tags": []
   },
   "outputs": [],
   "source": [
    "@torch.no_grad()\n",
    "def test(dataloader, model):\n",
    "    size = len(dataloader.dataset)\n",
    "    num_batches = len(dataloader)\n",
    "    model.eval()\n",
    "    test_loss, correct = 0, 0\n",
    "    for x, y in dataloader:\n",
    "        x, y = x.to(device), y.to(device)\n",
    "        pred = model(x)\n",
    "        test_loss += model.loss(pred, y).item()\n",
    "        correct += (pred.argmax(1) == y).type(torch.float).sum().item()\n",
    "    test_loss /= num_batches\n",
    "    correct /= size\n",
    "    print(f\"Test: accuracy: {(100*correct):>0.1f}%, avg loss: {test_loss:>8f}\")\n",
    "    return test_loss"
   ]
  },
  {
   "cell_type": "code",
   "execution_count": 15,
   "id": "e5e34ba5-7650-47a1-8c02-7be4cc343050",
   "metadata": {
    "tags": []
   },
   "outputs": [],
   "source": [
    "def trainloop(model, epochs=5, optimizer=torch.optim.AdamW, **optargs):\n",
    "    optimizer = optimizer(model.parameters(), **optargs)\n",
    "    losses = []\n",
    "    start = time.time()\n",
    "    for t in range(epochs):\n",
    "        epoch_loss = train(train_data, model, optimizer)\n",
    "        losses += epoch_loss\n",
    "    print(f\"Train: {epochs} epochs took {time.time()-start:.2f} sec, last loss: {losses[-1]:>8f}\")\n",
    "    test(test_data, model)\n",
    "    return losses"
   ]
  },
  {
   "cell_type": "code",
   "execution_count": 19,
   "id": "fe44a9f5-009c-4f80-a867-f62c5a775ce7",
   "metadata": {
    "tags": []
   },
   "outputs": [
    {
     "name": "stdout",
     "output_type": "stream",
     "text": [
      "Digits(\n",
      "  (layers): Sequential(\n",
      "    (0): Flatten(start_dim=1, end_dim=-1)\n",
      "    (1): Linear(in_features=784, out_features=512, bias=True)\n",
      "    (2): ReLU()\n",
      "    (3): Linear(in_features=512, out_features=512, bias=True)\n",
      "    (4): ReLU()\n",
      "    (5): Linear(in_features=512, out_features=10, bias=True)\n",
      "  )\n",
      "  (loss): CrossEntropyLoss()\n",
      ")\n",
      "Train: 30 epochs took 27.51 sec, last loss: 0.000054\n",
      "Test: accuracy: 98.4%, avg loss: 0.094772\n"
     ]
    },
    {
     "data": {
      "text/plain": [
       "[<matplotlib.lines.Line2D at 0x7f558c97e5f0>]"
      ]
     },
     "execution_count": 19,
     "metadata": {},
     "output_type": "execute_result"
    },
    {
     "data": {
      "image/png": "[encoded data removed]",
      "text/plain": [
       "<Figure size 640x480 with 1 Axes>"
      ]
     },
     "metadata": {},
     "output_type": "display_data"
    }
   ],
   "source": [
    "torch.manual_seed(42)\n",
    "m = Digits().to(device)\n",
    "print(m)\n",
    "plt.plot(trainloop(m, epochs=30, weight_decay=0.01)) # note: this can get 0.2% higher if we use ReduceLROnPlateau scheduler but we'll aboid that for now"
   ]
  },
  {
   "cell_type": "code",
   "execution_count": null,
   "id": "8be65792-ca81-41c1-a09e-4a3bf98ae731",
   "metadata": {},
   "outputs": [],
   "source": []
  }
 ],
 "metadata": {
  "kernelspec": {
   "display_name": "Python 3 (ipykernel)",
   "language": "python",
   "name": "python3"
  },
  "language_info": {
   "codemirror_mode": {
    "name": "ipython",
    "version": 3
   },
   "file_extension": ".py",
   "mimetype": "text/x-python",
   "name": "python",
   "nbconvert_exporter": "python",
   "pygments_lexer": "ipython3",
   "version": "3.10.7"
  }
 },
 "nbformat": 4,
 "nbformat_minor": 5
}
