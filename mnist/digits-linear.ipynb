{
 "cells": [
  {
   "cell_type": "code",
   "execution_count": 33,
   "id": "2ea0355d-6f98-4413-a178-c4819da7f22f",
   "metadata": {
    "tags": []
   },
   "outputs": [],
   "source": [
    "import torch\n",
    "import torch.nn as nn\n",
    "import torch.nn.functional as F\n",
    "import torch.utils.data as D\n",
    "\n",
    "import torchvision.datasets\n",
    "import torchvision.transforms as T"
   ]
  },
  {
   "cell_type": "code",
   "execution_count": 2,
   "id": "5a09189e-30b9-42cf-ad16-15791b73f8c9",
   "metadata": {
    "tags": []
   },
   "outputs": [],
   "source": [
    "import time"
   ]
  },
  {
   "cell_type": "code",
   "execution_count": 3,
   "id": "f3a3403b-f00d-4b15-a731-ea85626ef318",
   "metadata": {
    "tags": []
   },
   "outputs": [],
   "source": [
    "import matplotlib.pyplot as plt\n",
    "%matplotlib inline"
   ]
  },
  {
   "cell_type": "code",
   "execution_count": 37,
   "id": "1c1cf930-2f75-4e49-a098-c49310804930",
   "metadata": {
    "tags": []
   },
   "outputs": [],
   "source": [
    "augmentation = T.Compose([\n",
    "    T.ToTensor(),\n",
    "    T.RandomAffine(degrees=10, translate=(0.1, 0.1), scale=(0.8, 1.2)),\n",
    "])"
   ]
  },
  {
   "cell_type": "code",
   "execution_count": 38,
   "id": "784ea698-e420-437c-a966-6aed622a904b",
   "metadata": {
    "tags": []
   },
   "outputs": [],
   "source": [
    "mnist_train = torchvision.datasets.MNIST(\".\", train=True, download=True, transform=T.ToTensor())\n",
    "mnist_train_aug = torchvision.datasets.MNIST(\".\", train=True, download=True, transform=lambda i: augmentation(i))\n",
    "mnist_test = torchvision.datasets.MNIST(\".\", train=False, download=True, transform=T.ToTensor())"
   ]
  },
  {
   "cell_type": "code",
   "execution_count": 22,
   "id": "f6c768ad-8580-44de-ad0d-32ad92625125",
   "metadata": {
    "tags": []
   },
   "outputs": [],
   "source": [
    "batch_size = 128\n",
    "train_cutoff = int(len(mnist_train) * 0.9)\n",
    "train_data = D.DataLoader(D.Subset(mnist_train, range(train_cutoff)), batch_size=batch_size, num_workers=4)\n",
    "train_data_aug = D.DataLoader(D.Subset(mnist_train_aug, range(train_cutoff)), batch_size=batch_size, num_workers=12)\n",
    "val_data = D.DataLoader(D.Subset(mnist_train, range(train_cutoff, len(mnist_train))), batch_size=batch_size, num_workers=4)\n",
    "test_data = D.DataLoader(mnist_test, batch_size=batch_size, num_workers=4)"
   ]
  },
  {
   "cell_type": "code",
   "execution_count": 7,
   "id": "aa435962-04f6-47b7-892c-4eec35087c86",
   "metadata": {
    "tags": []
   },
   "outputs": [
    {
     "name": "stderr",
     "output_type": "stream",
     "text": [
      "/home/zeux/.local/lib/python3.10/site-packages/torch/cuda/__init__.py:107: UserWarning: CUDA initialization: Unexpected error from cudaGetDeviceCount(). Did you run some cuda functions before calling NumCudaDevices() that might have already set an error? Error 804: forward compatibility was attempted on non supported HW (Triggered internally at ../c10/cuda/CUDAFunctions.cpp:109.)\n",
      "  return torch._C._cuda_getDeviceCount() > 0\n"
     ]
    }
   ],
   "source": [
    "device = \"cuda\" if torch.cuda.is_available() else \"cpu\""
   ]
  },
  {
   "cell_type": "code",
   "execution_count": 8,
   "id": "e0f6f83d-1375-4656-97af-e06f88aa3bd5",
   "metadata": {
    "tags": []
   },
   "outputs": [],
   "source": [
    "class Digits(nn.Module):\n",
    "    def __init__(self):\n",
    "        super().__init__()\n",
    "        self.layers = nn.Sequential(\n",
    "            nn.Flatten(),\n",
    "            nn.Linear(28*28, 512),\n",
    "            nn.ReLU(),\n",
    "            nn.Linear(512, 512),\n",
    "            nn.ReLU(),\n",
    "            nn.Linear(512, 10))\n",
    "        self.loss = nn.CrossEntropyLoss()\n",
    "        \n",
    "    # image => logit\n",
    "    def forward(self, x):\n",
    "        y = self.layers(x)\n",
    "        return y\n",
    "    \n",
    "    # image => prediction, probability\n",
    "    @torch.no_grad()\n",
    "    def predict(self, x):\n",
    "        y = self.forward(x)\n",
    "        p = F.softmax(y, dim=-1)\n",
    "        pv, pi = torch.max(p, dim=-1)\n",
    "        return pi, pv"
   ]
  },
  {
   "cell_type": "code",
   "execution_count": 9,
   "id": "886b10b9-8d37-401d-b64a-2090258d4f9c",
   "metadata": {
    "tags": []
   },
   "outputs": [],
   "source": [
    "def train(dataloader, model, optimizer):\n",
    "    losses = []\n",
    "    model.train()\n",
    "    for x, y in dataloader:\n",
    "        x, y = x.to(device), y.to(device)\n",
    "\n",
    "        pred = model.forward(x)\n",
    "        loss = model.loss(pred, y)\n",
    "        losses.append(loss.item())\n",
    "\n",
    "        optimizer.zero_grad()\n",
    "        loss.backward()\n",
    "        optimizer.step()\n",
    "    return torch.tensor(losses).mean().item()"
   ]
  },
  {
   "cell_type": "code",
   "execution_count": 10,
   "id": "c792ce88-d4a8-48d5-92b5-31f988bf7b0c",
   "metadata": {
    "tags": []
   },
   "outputs": [],
   "source": [
    "@torch.no_grad()\n",
    "def validate(dataloader, model):\n",
    "    model.eval()\n",
    "    loss = 0\n",
    "    for x, y in dataloader:\n",
    "        x, y = x.to(device), y.to(device)\n",
    "        pred = model(x)\n",
    "        loss += model.loss(pred, y).item()\n",
    "    return loss / len(dataloader)"
   ]
  },
  {
   "cell_type": "code",
   "execution_count": 11,
   "id": "f47d7c5b-699b-4813-a633-62673672381c",
   "metadata": {
    "tags": []
   },
   "outputs": [],
   "source": [
    "@torch.no_grad()\n",
    "def test(dataloader, model):\n",
    "    model.eval()\n",
    "    correct = 0\n",
    "    for x, y in dataloader:\n",
    "        x, y = x.to(device), y.to(device)\n",
    "        pred = model(x)\n",
    "        correct += (pred.argmax(1) == y).type(torch.float).sum().item()\n",
    "    correct /= len(dataloader) * batch_size\n",
    "    print(f\"Test accuracy: {(100*correct):>0.1f}%\")"
   ]
  },
  {
   "cell_type": "code",
   "execution_count": 14,
   "id": "e5e34ba5-7650-47a1-8c02-7be4cc343050",
   "metadata": {
    "tags": []
   },
   "outputs": [],
   "source": [
    "def trainloop(model, epochs=5, optimizer=torch.optim.AdamW, **optargs):\n",
    "    optimizer = optimizer(model.parameters(), **optargs)\n",
    "    scheduler = torch.optim.lr_scheduler.ReduceLROnPlateau(optimizer, patience=5, factor=0.5)\n",
    "    start = time.time()\n",
    "    train_losses, val_losses = [], []\n",
    "    for e in range(epochs):\n",
    "        epoch_start = time.time()\n",
    "        train_loss = train(train_data_aug, model, optimizer)\n",
    "        val_loss = validate(val_data, model)\n",
    "        print(f\"Epoch {e}: {time.time()-epoch_start:.2f} sec, train loss {train_loss:>8f}, val loss {val_loss:>8f}, lr {optimizer.param_groups[0]['lr']}\")\n",
    "        scheduler.step(val_loss)\n",
    "        train_losses.append(train_loss)\n",
    "        val_losses.append(val_loss)\n",
    "    print(f\"Train: {epochs} epochs took {time.time()-start:.2f} sec, train loss {train_loss:>8f}, val loss {val_loss:>8f}\")\n",
    "    plt.plot(train_losses, label=\"train\")\n",
    "    plt.plot(val_losses, label=\"val\")\n",
    "    plt.legend()\n",
    "    plt.show()"
   ]
  },
  {
   "cell_type": "code",
   "execution_count": 39,
   "id": "9ec78610-0031-49f5-90c0-5779ca984387",
   "metadata": {
    "tags": []
   },
   "outputs": [
    {
     "name": "stdout",
     "output_type": "stream",
     "text": [
      "Epoch 0: 2.30 sec, train loss 0.622853, val loss 0.130795, lr 0.001\n",
      "Epoch 1: 2.27 sec, train loss 0.255237, val loss 0.084705, lr 0.001\n",
      "Epoch 2: 2.39 sec, train loss 0.192464, val loss 0.080952, lr 0.001\n",
      "Epoch 3: 2.29 sec, train loss 0.160940, val loss 0.064084, lr 0.001\n",
      "Epoch 4: 2.38 sec, train loss 0.146043, val loss 0.069148, lr 0.001\n",
      "Epoch 5: 2.39 sec, train loss 0.129860, val loss 0.057909, lr 0.001\n",
      "Epoch 6: 2.29 sec, train loss 0.118141, val loss 0.053946, lr 0.001\n",
      "Epoch 7: 2.30 sec, train loss 0.115553, val loss 0.048613, lr 0.001\n",
      "Epoch 8: 2.26 sec, train loss 0.107827, val loss 0.050407, lr 0.001\n",
      "Epoch 9: 2.27 sec, train loss 0.104053, val loss 0.047894, lr 0.001\n",
      "Epoch 10: 2.34 sec, train loss 0.100021, val loss 0.044583, lr 0.001\n",
      "Epoch 11: 2.29 sec, train loss 0.094087, val loss 0.052284, lr 0.001\n",
      "Epoch 12: 2.28 sec, train loss 0.089655, val loss 0.041503, lr 0.001\n",
      "Epoch 13: 2.24 sec, train loss 0.090023, val loss 0.048493, lr 0.001\n",
      "Epoch 14: 2.31 sec, train loss 0.084670, val loss 0.041337, lr 0.001\n",
      "Epoch 15: 2.31 sec, train loss 0.081423, val loss 0.042086, lr 0.001\n",
      "Epoch 16: 2.40 sec, train loss 0.082021, val loss 0.046679, lr 0.001\n",
      "Epoch 17: 2.28 sec, train loss 0.079522, val loss 0.044756, lr 0.001\n",
      "Epoch 18: 2.29 sec, train loss 0.077065, val loss 0.043762, lr 0.001\n",
      "Epoch 19: 2.26 sec, train loss 0.079391, val loss 0.037839, lr 0.001\n",
      "Epoch 20: 2.30 sec, train loss 0.074745, val loss 0.039537, lr 0.001\n",
      "Epoch 21: 2.22 sec, train loss 0.073374, val loss 0.033989, lr 0.001\n",
      "Epoch 22: 2.36 sec, train loss 0.073850, val loss 0.035817, lr 0.001\n",
      "Epoch 23: 2.31 sec, train loss 0.072133, val loss 0.037118, lr 0.001\n",
      "Epoch 24: 2.36 sec, train loss 0.069124, val loss 0.039608, lr 0.001\n",
      "Epoch 25: 2.32 sec, train loss 0.067820, val loss 0.034182, lr 0.001\n",
      "Epoch 26: 2.25 sec, train loss 0.065935, val loss 0.037132, lr 0.001\n",
      "Epoch 27: 2.31 sec, train loss 0.066049, val loss 0.045432, lr 0.001\n",
      "Epoch 28: 2.26 sec, train loss 0.053228, val loss 0.034875, lr 0.0005\n",
      "Epoch 29: 2.26 sec, train loss 0.051491, val loss 0.032093, lr 0.0005\n",
      "Epoch 30: 2.36 sec, train loss 0.045678, val loss 0.031307, lr 0.0005\n",
      "Epoch 31: 2.27 sec, train loss 0.046866, val loss 0.032031, lr 0.0005\n",
      "Epoch 32: 2.42 sec, train loss 0.045253, val loss 0.033016, lr 0.0005\n",
      "Epoch 33: 2.27 sec, train loss 0.046867, val loss 0.032224, lr 0.0005\n",
      "Epoch 34: 2.27 sec, train loss 0.047597, val loss 0.030693, lr 0.0005\n",
      "Epoch 35: 2.37 sec, train loss 0.046613, val loss 0.029789, lr 0.0005\n",
      "Epoch 36: 2.30 sec, train loss 0.043048, val loss 0.029972, lr 0.0005\n",
      "Epoch 37: 2.34 sec, train loss 0.043453, val loss 0.034783, lr 0.0005\n",
      "Epoch 38: 2.34 sec, train loss 0.044411, val loss 0.033566, lr 0.0005\n",
      "Epoch 39: 2.29 sec, train loss 0.042742, val loss 0.034329, lr 0.0005\n",
      "Epoch 40: 2.32 sec, train loss 0.043533, val loss 0.030889, lr 0.0005\n",
      "Epoch 41: 2.32 sec, train loss 0.042639, val loss 0.032434, lr 0.0005\n",
      "Epoch 42: 2.27 sec, train loss 0.038922, val loss 0.028167, lr 0.00025\n",
      "Epoch 43: 2.32 sec, train loss 0.036464, val loss 0.030642, lr 0.00025\n",
      "Epoch 44: 2.33 sec, train loss 0.033928, val loss 0.028502, lr 0.00025\n",
      "Epoch 45: 2.36 sec, train loss 0.035219, val loss 0.028051, lr 0.00025\n",
      "Epoch 46: 2.28 sec, train loss 0.033889, val loss 0.028638, lr 0.00025\n",
      "Epoch 47: 2.30 sec, train loss 0.033690, val loss 0.028752, lr 0.00025\n",
      "Epoch 48: 2.29 sec, train loss 0.034202, val loss 0.031126, lr 0.00025\n",
      "Epoch 49: 2.32 sec, train loss 0.031799, val loss 0.029352, lr 0.00025\n",
      "Train: 50 epochs took 115.42 sec, train loss 0.031799, val loss 0.029352\n"
     ]
    },
    {
     "data": {
      "image/png": "[encoded data removed]",
      "text/plain": [
       "<Figure size 640x480 with 1 Axes>"
      ]
     },
     "metadata": {},
     "output_type": "display_data"
    }
   ],
   "source": [
    "torch.manual_seed(42)\n",
    "m = Digits().to(device)\n",
    "trainloop(m, epochs=50, weight_decay=0.01)"
   ]
  },
  {
   "cell_type": "code",
   "execution_count": 42,
   "id": "b14cdb02-78b0-4c3d-af84-14bf7c6bc1d9",
   "metadata": {
    "tags": []
   },
   "outputs": [
    {
     "data": {
      "text/plain": [
       "<Figure size 640x480 with 0 Axes>"
      ]
     },
     "metadata": {},
     "output_type": "display_data"
    },
    {
     "data": {
      "image/png": "[encoded data removed]",
      "text/plain": [
       "<Figure size 640x480 with 5 Axes>"
      ]
     },
     "metadata": {},
     "output_type": "display_data"
    }
   ],
   "source": [
    "count = 5\n",
    "plt.figure()\n",
    "f, axarr = plt.subplots(1, count)\n",
    "for x, y in mnist_train:\n",
    "    pi, pv = m.predict(x.to(device))\n",
    "    if pi.item() != y:\n",
    "        ax = axarr[count-1]\n",
    "        ax.set_title(f\"pred {pi.item()} gt {y}\")\n",
    "        ax.set_xticks([])\n",
    "        ax.set_yticks([])\n",
    "        ax.imshow(x[0], cmap=\"binary\")\n",
    "        count -= 1\n",
    "        if count == 0:\n",
    "            break"
   ]
  },
  {
   "cell_type": "code",
   "execution_count": 41,
   "id": "a8da9e6e-2b31-4412-a462-74c87eb1b71b",
   "metadata": {
    "tags": []
   },
   "outputs": [
    {
     "name": "stdout",
     "output_type": "stream",
     "text": [
      "Test accuracy: 98.2%\n"
     ]
    }
   ],
   "source": [
    "test(test_data, m)"
   ]
  }
 ],
 "metadata": {
  "kernelspec": {
   "display_name": "Python 3 (ipykernel)",
   "language": "python",
   "name": "python3"
  },
  "language_info": {
   "codemirror_mode": {
    "name": "ipython",
    "version": 3
   },
   "file_extension": ".py",
   "mimetype": "text/x-python",
   "name": "python",
   "nbconvert_exporter": "python",
   "pygments_lexer": "ipython3",
   "version": "3.10.7"
  }
 },
 "nbformat": 4,
 "nbformat_minor": 5
}
